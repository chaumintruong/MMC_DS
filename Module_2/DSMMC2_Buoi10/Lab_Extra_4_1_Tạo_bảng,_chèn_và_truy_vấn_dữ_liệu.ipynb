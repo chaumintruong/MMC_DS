{
  "cells": [
    {
      "cell_type": "markdown",
      "metadata": {
        "id": "5fpJa_3bk3cb"
      },
      "source": [
        "# Lab-Extra-4.1. Tạo bảng, chèn và truy vấn dữ liệu"
      ]
    },
    {
      "cell_type": "markdown",
      "metadata": {
        "id": "SyoiqjiWk3ch"
      },
      "source": [
        "Đầu tiên chúng ta phải mở cmd lên và chạy các lệnh sau\n",
        "\n",
        "- pip install pandas\n",
        "- pip install pymysql\n",
        "- pip install ipython-sql\n",
        "- pip install \"mysqlclient==1.3.12\"\n",
        "\n",
        "Sau khi cài đặt xong, chúng ta sẽ tiến hành import thư viện pymysql."
      ]
    },
    {
      "cell_type": "code",
      "execution_count": 8,
      "metadata": {
        "colab": {
          "base_uri": "https://localhost:8080/",
          "height": 106
        },
        "id": "u-UZOVTl-M18",
        "outputId": "61df4a16-cd61-4460-8e09-5a7adc045a56"
      },
      "outputs": [
        {
          "name": "stdout",
          "output_type": "stream",
          "text": [
            "Requirement already satisfied: pandas in c:\\users\\admin\\appdata\\local\\programs\\python\\python38\\lib\\site-packages (2.0.3)\n",
            "Requirement already satisfied: python-dateutil>=2.8.2 in c:\\users\\admin\\appdata\\local\\programs\\python\\python38\\lib\\site-packages (from pandas) (2.9.0.post0)\n",
            "Requirement already satisfied: pytz>=2020.1 in c:\\users\\admin\\appdata\\local\\programs\\python\\python38\\lib\\site-packages (from pandas) (2024.1)\n",
            "Requirement already satisfied: tzdata>=2022.1 in c:\\users\\admin\\appdata\\local\\programs\\python\\python38\\lib\\site-packages (from pandas) (2024.1)\n",
            "Requirement already satisfied: numpy>=1.20.3 in c:\\users\\admin\\appdata\\local\\programs\\python\\python38\\lib\\site-packages (from pandas) (1.24.4)\n",
            "Requirement already satisfied: six>=1.5 in c:\\users\\admin\\appdata\\local\\programs\\python\\python38\\lib\\site-packages (from python-dateutil>=2.8.2->pandas) (1.16.0)\n",
            "Note: you may need to restart the kernel to use updated packages.\n",
            "Requirement already satisfied: pymysql in c:\\users\\admin\\appdata\\local\\programs\\python\\python38\\lib\\site-packages (1.1.0)\n",
            "Note: you may need to restart the kernel to use updated packages.\n",
            "Requirement already satisfied: ipython-sql in c:\\users\\admin\\appdata\\local\\programs\\python\\python38\\lib\\site-packages (0.5.0)\n",
            "Requirement already satisfied: prettytable in c:\\users\\admin\\appdata\\local\\programs\\python\\python38\\lib\\site-packages (from ipython-sql) (3.10.0)\n",
            "Requirement already satisfied: ipython in c:\\users\\admin\\appdata\\local\\programs\\python\\python38\\lib\\site-packages (from ipython-sql) (8.12.3)\n",
            "Requirement already satisfied: sqlalchemy>=2.0 in c:\\users\\admin\\appdata\\local\\programs\\python\\python38\\lib\\site-packages (from ipython-sql) (2.0.30)\n",
            "Requirement already satisfied: sqlparse in c:\\users\\admin\\appdata\\local\\programs\\python\\python38\\lib\\site-packages (from ipython-sql) (0.5.0)\n",
            "Requirement already satisfied: six in c:\\users\\admin\\appdata\\local\\programs\\python\\python38\\lib\\site-packages (from ipython-sql) (1.16.0)\n",
            "Requirement already satisfied: ipython-genutils in c:\\users\\admin\\appdata\\local\\programs\\python\\python38\\lib\\site-packages (from ipython-sql) (0.2.0)\n",
            "Requirement already satisfied: typing-extensions>=4.6.0 in c:\\users\\admin\\appdata\\local\\programs\\python\\python38\\lib\\site-packages (from sqlalchemy>=2.0->ipython-sql) (4.11.0)\n",
            "Requirement already satisfied: greenlet!=0.4.17 in c:\\users\\admin\\appdata\\local\\programs\\python\\python38\\lib\\site-packages (from sqlalchemy>=2.0->ipython-sql) (3.0.3)\n",
            "Requirement already satisfied: backcall in c:\\users\\admin\\appdata\\local\\programs\\python\\python38\\lib\\site-packages (from ipython->ipython-sql) (0.2.0)\n",
            "Requirement already satisfied: decorator in c:\\users\\admin\\appdata\\local\\programs\\python\\python38\\lib\\site-packages (from ipython->ipython-sql) (5.1.1)\n",
            "Requirement already satisfied: jedi>=0.16 in c:\\users\\admin\\appdata\\local\\programs\\python\\python38\\lib\\site-packages (from ipython->ipython-sql) (0.19.1)\n",
            "Requirement already satisfied: matplotlib-inline in c:\\users\\admin\\appdata\\local\\programs\\python\\python38\\lib\\site-packages (from ipython->ipython-sql) (0.1.7)\n",
            "Requirement already satisfied: pickleshare in c:\\users\\admin\\appdata\\local\\programs\\python\\python38\\lib\\site-packages (from ipython->ipython-sql) (0.7.5)\n",
            "Requirement already satisfied: prompt-toolkit!=3.0.37,<3.1.0,>=3.0.30 in c:\\users\\admin\\appdata\\local\\programs\\python\\python38\\lib\\site-packages (from ipython->ipython-sql) (3.0.43)\n",
            "Requirement already satisfied: pygments>=2.4.0 in c:\\users\\admin\\appdata\\local\\programs\\python\\python38\\lib\\site-packages (from ipython->ipython-sql) (2.18.0)\n",
            "Requirement already satisfied: stack-data in c:\\users\\admin\\appdata\\local\\programs\\python\\python38\\lib\\site-packages (from ipython->ipython-sql) (0.6.3)\n",
            "Requirement already satisfied: traitlets>=5 in c:\\users\\admin\\appdata\\local\\programs\\python\\python38\\lib\\site-packages (from ipython->ipython-sql) (5.14.3)\n",
            "Requirement already satisfied: colorama in c:\\users\\admin\\appdata\\local\\programs\\python\\python38\\lib\\site-packages (from ipython->ipython-sql) (0.4.6)\n",
            "Requirement already satisfied: wcwidth in c:\\users\\admin\\appdata\\local\\programs\\python\\python38\\lib\\site-packages (from prettytable->ipython-sql) (0.2.13)\n",
            "Requirement already satisfied: parso<0.9.0,>=0.8.3 in c:\\users\\admin\\appdata\\local\\programs\\python\\python38\\lib\\site-packages (from jedi>=0.16->ipython->ipython-sql) (0.8.4)\n",
            "Requirement already satisfied: executing>=1.2.0 in c:\\users\\admin\\appdata\\local\\programs\\python\\python38\\lib\\site-packages (from stack-data->ipython->ipython-sql) (2.0.1)\n",
            "Requirement already satisfied: asttokens>=2.1.0 in c:\\users\\admin\\appdata\\local\\programs\\python\\python38\\lib\\site-packages (from stack-data->ipython->ipython-sql) (2.4.1)\n",
            "Requirement already satisfied: pure-eval in c:\\users\\admin\\appdata\\local\\programs\\python\\python38\\lib\\site-packages (from stack-data->ipython->ipython-sql) (0.2.2)\n",
            "Note: you may need to restart the kernel to use updated packages.\n",
            "Requirement already satisfied: mysqlclient in c:\\users\\admin\\appdata\\local\\programs\\python\\python38\\lib\\site-packages (2.2.4)\n",
            "Note: you may need to restart the kernel to use updated packages.\n"
          ]
        }
      ],
      "source": [
        "%pip install pandas\n",
        "%pip install pymysql\n",
        "%pip install ipython-sql\n",
        "%pip install \"mysqlclient\""
      ]
    },
    {
      "cell_type": "markdown",
      "metadata": {
        "id": "Y0kN9m9e-Ogi"
      },
      "source": [
        "Đầu tiên chúng ta phải mở cmd lên và chạy các lệnh sau\n",
        "\n",
        "- pip install pandas\n",
        "- pip install pymysql\n",
        "- pip install ipython-sql\n",
        "- pip install \"mysqlclient==1.3.12\"\n",
        "\n",
        "Sau khi cài đặt xong, chúng ta sẽ tiến hành import thư viện pymysql."
      ]
    },
    {
      "cell_type": "code",
      "execution_count": 18,
      "metadata": {
        "colab": {
          "base_uri": "https://localhost:8080/",
          "height": 491
        },
        "id": "frR5Kkeak3ck",
        "outputId": "c34d6512-a26d-490c-c2f0-300fb87f8120"
      },
      "outputs": [
        {
          "name": "stdout",
          "output_type": "stream",
          "text": [
            "Empty DataFrame\n",
            "Columns: [EMP_ID, F_NAME, L_NAME, SSN, B_DATE, SEX, ADDRESS, JOB_ID, SALARY, MANAGER_ID, DEP_ID]\n",
            "Index: []\n"
          ]
        },
        {
          "name": "stderr",
          "output_type": "stream",
          "text": [
            "C:\\Users\\ADMIN\\AppData\\Local\\Temp\\ipykernel_22152\\4263814649.py:6: UserWarning: pandas only supports SQLAlchemy connectable (engine/connection) or database string URI or sqlite3 DBAPI2 connection. Other DBAPI2 objects are not tested. Please consider using SQLAlchemy.\n",
            "  df = pd.read_sql_query(\"SELECT * FROM EMPLOYEES\", conn)\n"
          ]
        }
      ],
      "source": [
        "import pymysql\n",
        "import pandas as pd\n",
        "\n",
        "conn = pymysql.connect(host='localhost', port=int(3306), user='root', passwd='Chau#2112', db='hr')\n",
        "\n",
        "df = pd.read_sql_query(\"SELECT * FROM EMPLOYEES\", conn)\n",
        "print(df)\n",
        "\n"
      ]
    }
  ],
  "metadata": {
    "colab": {
      "provenance": []
    },
    "kernelspec": {
      "display_name": "Python 3 (ipykernel)",
      "language": "python",
      "name": "python3"
    },
    "language_info": {
      "codemirror_mode": {
        "name": "ipython",
        "version": 3
      },
      "file_extension": ".py",
      "mimetype": "text/x-python",
      "name": "python",
      "nbconvert_exporter": "python",
      "pygments_lexer": "ipython3",
      "version": "3.8.0"
    }
  },
  "nbformat": 4,
  "nbformat_minor": 0
}
