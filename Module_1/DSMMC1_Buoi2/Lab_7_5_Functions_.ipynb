{
  "nbformat": 4,
  "nbformat_minor": 0,
  "metadata": {
    "kernelspec": {
      "display_name": "Python 3",
      "language": "python",
      "name": "python3"
    },
    "language_info": {
      "codemirror_mode": {
        "name": "ipython",
        "version": 3
      },
      "file_extension": ".py",
      "mimetype": "text/x-python",
      "name": "python",
      "nbconvert_exporter": "python",
      "pygments_lexer": "ipython3",
      "version": "3.7.6"
    },
    "colab": {
      "provenance": [],
      "collapsed_sections": [
        "rUW5l8r3IC4B"
      ]
    }
  },
  "cells": [
    {
      "cell_type": "markdown",
      "metadata": {
        "id": "CqmXjJZnIC3U"
      },
      "source": [
        "#Lab 7.9 Hàm trong Python\n",
        "\n",
        "Thời lượng ước tính: **40** phút\n",
        "\n",
        "## Mục tiêu\n",
        "\n",
        "Sau khi hoàn thành lab này, bạn sẽ có thể:\n",
        "\n",
        "-   Hiểu về hàm và biến\n",
        "-   Làm việc với hàm và biến\n"
      ]
    },
    {
      "cell_type": "markdown",
      "metadata": {
        "id": "E6g5Q7ojIC3i"
      },
      "source": [
        "<h1>Hàm trong Python</h1>\n"
      ]
    },
    {
      "cell_type": "markdown",
      "metadata": {
        "id": "tUefozPSIC3k"
      },
      "source": [
        "<p><strong>Xin chào!</strong> Notebook này sẽ dạy bạn về các hàm trong Ngôn ngữ lập trình Python. Ở cuối lab này, bạn sẽ biết các khái niệm cơ bản về hàm, biến và cách sử dụng hàm.</p>\n"
      ]
    },
    {
      "cell_type": "markdown",
      "metadata": {
        "id": "WDZFcegiIC3k"
      },
      "source": [
        "<h2>Mục lục</h2>\n",
        "<div class=\"alert alert-block alert-info\" style=\"margin-top: 20px\">\n",
        "    <ul>\n",
        "        <li>\n",
        "            <a href=\"#func\">Hàm</a>\n",
        "            <ul>\n",
        "                <li><a href=\"content\">Hàm là gì?</a></li>\n",
        "                <li><a href=\"var\">Biến</a></li>\n",
        "                <li><a href=\"simple\">Hàm giúp đơn giản hóa mọi thứ</a></li>\n",
        "            </ul>\n",
        "        </li>\n",
        "        <li><a href=\"pre\">Hàm định nghĩa trước</a></li>\n",
        "        <li><a href=\"if\">Sử dụng câu lệnh <code>if</code>/<code>else</code> và Vòng lặp trong hàm</a></li>\n",
        "        <li><a href=\"default\">Thiết lập các giá trị đối số mặc định trong hàm tùy chỉnh</a></li>\n",
        "        <li><a href=\"global\">Biến toàn cục</a></li>\n",
        "        <li><a href=\"scope\">Phạm vi của biến</a></li>\n",
        "        <li><a href=\"collec\">Kiểu dữ liệu tập hợp và hàm</a></li>\n",
        "        <li>\n",
        "            <a href=\"#quiz\">Quiz về Hàm</a>\n",
        "        </li>\n",
        "    </ul>\n",
        "\n",
        "</div>\n",
        "\n",
        "<hr>\n"
      ]
    },
    {
      "cell_type": "markdown",
      "metadata": {
        "id": "hgTf7WcVIC3l"
      },
      "source": [
        "<h2 id=\"func\">Hàm</h2>\n"
      ]
    },
    {
      "cell_type": "markdown",
      "metadata": {
        "id": "WZn_5RhnIC3m"
      },
      "source": [
        "Hàm là một khối code có thể tái sử dụng để thực hiện các thao tác được chỉ định trong hàm. Chúng cho phép bạn chia nhỏ các tác vụ và sử dụng lại code của mình trong các chương trình khác nhau.\n",
        "\n",
        "Có 2 kiểu hàm :\n",
        "\n",
        "-   <b>Hàm định nghĩa trước (Pre-defined function)</b>\n",
        "-   <b>Hàm do người dùng định nghĩa (User defined function)</b>\n"
      ]
    },
    {
      "cell_type": "markdown",
      "metadata": {
        "id": "DawSn6w6IC3n"
      },
      "source": [
        "<h3 id=\"content\">Hàm là gì?</h3>\n"
      ]
    },
    {
      "cell_type": "markdown",
      "metadata": {
        "id": "n0ma6p7TIC3n"
      },
      "source": [
        "Bạn có thể xác định các hàm để cung cấp chức năng cần thiết. Dưới đây là các quy tắc đơn giản để xác định một hàm trong Python:\n",
        "\n",
        "-   Khối hàm bắt đầu với <code>def</code> theo sau là hàm <code>(tên hàm)</code> và dấu <code>()</code>.\n",
        "-   Thay các tham số hoặc đối số vào trong dấu ngoặc đơn.\n",
        "-   Bạn cũng có thể xác định các tham số bên trong dấu ngoặc đơn.\n",
        "-   Sau dấu <code>:</code> là phần thân hàm và cần thụt lề.\n",
        "-   You can also place documentation before the body. bạn cũng có thể đặt đoạn văn bản trước phần thân hàm.\n",
        "-   Câu lệnh <code>return</code> thoát một hàm, tùy chọn trả về một giá trị.\n",
        "\n",
        "Ví dụ, hàm thêm tham số <code> a</code> sẽ in và trả về đầu ra là <code> b</code>:\n"
      ]
    },
    {
      "cell_type": "code",
      "metadata": {
        "jupyter": {
          "outputs_hidden": true
        },
        "id": "c9kSd8tqIC3o"
      },
      "source": [
        "# First function example: Add 1 to a and store as b\n",
        "\n",
        "def add(a):\n",
        "    b = a + 1\n",
        "    print(a, \"if you add one\", b)\n",
        "    return(b)"
      ],
      "execution_count": 1,
      "outputs": []
    },
    {
      "cell_type": "markdown",
      "metadata": {
        "id": "9Yi-jr3rIC3o"
      },
      "source": [
        "Hình sau mô tả thuật ngữ:"
      ]
    },
    {
      "cell_type": "markdown",
      "metadata": {
        "id": "6J3UcbamIC3o"
      },
      "source": [
        "<img src=\"https://cf-courses-data.s3.us.cloud-object-storage.appdomain.cloud/IBMDeveloperSkillsNetwork-PY0101EN-SkillsNetwork/labs/Module%203/images/FuncsDefinition.png\" width=\"500\" />\n"
      ]
    },
    {
      "cell_type": "markdown",
      "metadata": {
        "id": "ZAwe1ofNIC3p"
      },
      "source": [
        "Bạn có thể tìm trợ giúp về hàm:"
      ]
    },
    {
      "cell_type": "code",
      "metadata": {
        "id": "wzvOvXOFIC3p",
        "outputId": "4de550b0-7ff7-40e4-d0ce-b6b53aa686f1",
        "colab": {
          "base_uri": "https://localhost:8080/"
        }
      },
      "source": [
        "# Get a help on add function\n",
        "\n",
        "help(add)"
      ],
      "execution_count": 2,
      "outputs": [
        {
          "output_type": "stream",
          "name": "stdout",
          "text": [
            "Help on function add in module __main__:\n",
            "\n",
            "add(a)\n",
            "\n"
          ]
        }
      ]
    },
    {
      "cell_type": "markdown",
      "metadata": {
        "id": "8jv8CMkdIC3p"
      },
      "source": [
        "Chúng ta có thể gọi hàm:\n"
      ]
    },
    {
      "cell_type": "code",
      "metadata": {
        "id": "PUiMW9cBIC3q",
        "outputId": "30a19de7-6e5c-4873-a452-0b0dcba8868a",
        "colab": {
          "base_uri": "https://localhost:8080/"
        }
      },
      "source": [
        "# Call the function add()\n",
        "\n",
        "add(1)"
      ],
      "execution_count": 3,
      "outputs": [
        {
          "output_type": "stream",
          "name": "stdout",
          "text": [
            "1 if you add one 2\n"
          ]
        },
        {
          "output_type": "execute_result",
          "data": {
            "text/plain": [
              "2"
            ]
          },
          "metadata": {},
          "execution_count": 3
        }
      ]
    },
    {
      "cell_type": "markdown",
      "metadata": {
        "id": "f9mxbXDTIC3q"
      },
      "source": [
        "Nếu gọi hàm với đầu vào mới, chúng ta sẽ nhận được kết quả mới:"
      ]
    },
    {
      "cell_type": "code",
      "metadata": {
        "id": "MacyDzz8IC3q",
        "outputId": "f16ad3af-c526-42fd-d2e7-405ca3088939",
        "colab": {
          "base_uri": "https://localhost:8080/"
        }
      },
      "source": [
        "# Call the function add()\n",
        "\n",
        "add(2)"
      ],
      "execution_count": 4,
      "outputs": [
        {
          "output_type": "stream",
          "name": "stdout",
          "text": [
            "2 if you add one 3\n"
          ]
        },
        {
          "output_type": "execute_result",
          "data": {
            "text/plain": [
              "3"
            ]
          },
          "metadata": {},
          "execution_count": 4
        }
      ]
    },
    {
      "cell_type": "markdown",
      "metadata": {
        "id": "iSqkW0JuIC3q"
      },
      "source": [
        "Chúng ta có thể tạo các hàm khác nhau. Ví dụ, chúng ta có thể tạo một hàm để nhân hai số. Các số sẽ được thể hiện bằng các biến <code> a</code> và <code> b</code>:"
      ]
    },
    {
      "cell_type": "code",
      "metadata": {
        "id": "HJO6DAWQIC3r",
        "outputId": "6fa4464b-3bc6-4718-c738-230fb5b3cc35",
        "colab": {
          "base_uri": "https://localhost:8080/"
        }
      },
      "source": [
        "# Define a function for multiple two numbers\n",
        "\n",
        "def Mult(a, b):\n",
        "    c = a * b\n",
        "    return(c)\n",
        "    print('This is not printed')\n",
        "\n",
        "result = Mult(12,2)\n",
        "print(result)"
      ],
      "execution_count": 5,
      "outputs": [
        {
          "output_type": "stream",
          "name": "stdout",
          "text": [
            "24\n"
          ]
        }
      ]
    },
    {
      "cell_type": "markdown",
      "metadata": {
        "id": "3UBl487zIC3r"
      },
      "source": [
        "Có thể dùng cùng một hàm cho các kiểu dữ liệu khác nhau. Chằng hạn, chúng ta có thể nhân 2 số nguyên:"
      ]
    },
    {
      "cell_type": "code",
      "metadata": {
        "id": "mqIfKcNBIC3r",
        "outputId": "e123fe1a-d7eb-4710-d571-b850426e1eee",
        "colab": {
          "base_uri": "https://localhost:8080/"
        }
      },
      "source": [
        "# Use mult() multiply two integers\n",
        "\n",
        "Mult(2, 3)"
      ],
      "execution_count": 6,
      "outputs": [
        {
          "output_type": "execute_result",
          "data": {
            "text/plain": [
              "6"
            ]
          },
          "metadata": {},
          "execution_count": 6
        }
      ]
    },
    {
      "cell_type": "markdown",
      "metadata": {
        "id": "8w2KpfmtIC3r"
      },
      "source": [
        "Lưu ý: cách hàm kết thúc với câu lệnh <code> return</code>, và trả lại một giá trị. Giá trị này có thể được gán thêm cho một biến khác như mong muốn.\n",
        "\n",
        "<hr>\n",
        "Cùng một hàm có thể được sử dụng cho các kiểu dữ liệu khác nhau. Ví dụ, chúng ta có thể nhân hai số nguyên:"
      ]
    },
    {
      "cell_type": "markdown",
      "metadata": {
        "id": "AtBpO2YhIC3s"
      },
      "source": [
        "2 số thực:\n"
      ]
    },
    {
      "cell_type": "code",
      "metadata": {
        "id": "W_8fsQPEIC3s",
        "outputId": "81dfe4a0-230a-4236-effb-1086bb77c4a0",
        "colab": {
          "base_uri": "https://localhost:8080/"
        }
      },
      "source": [
        "# Use mult() multiply two floats\n",
        "\n",
        "Mult(10.0, 3.14)"
      ],
      "execution_count": 7,
      "outputs": [
        {
          "output_type": "execute_result",
          "data": {
            "text/plain": [
              "31.400000000000002"
            ]
          },
          "metadata": {},
          "execution_count": 7
        }
      ]
    },
    {
      "cell_type": "markdown",
      "metadata": {
        "id": "OvsehRIWIC3s"
      },
      "source": [
        "Bạn thậm chí có thể sao chép một string bằng cách nhân với một số nguyên:"
      ]
    },
    {
      "cell_type": "code",
      "metadata": {
        "id": "5A7YLlN8IC3s",
        "outputId": "cdcc46e3-61c3-4c1e-91e9-b2bf89b13848",
        "colab": {
          "base_uri": "https://localhost:8080/",
          "height": 35
        }
      },
      "source": [
        "# Use mult() multiply two different type values together\n",
        "\n",
        "Mult(2, \"Michael Jackson \")"
      ],
      "execution_count": 8,
      "outputs": [
        {
          "output_type": "execute_result",
          "data": {
            "text/plain": [
              "'Michael Jackson Michael Jackson '"
            ],
            "application/vnd.google.colaboratory.intrinsic+json": {
              "type": "string"
            }
          },
          "metadata": {},
          "execution_count": 8
        }
      ]
    },
    {
      "cell_type": "markdown",
      "metadata": {
        "id": "XfkwO0sGIC3t"
      },
      "source": [
        "<h3 id=\"var\">Biến</h3>\n"
      ]
    },
    {
      "cell_type": "markdown",
      "metadata": {
        "id": "og1l2-9kIC3t"
      },
      "source": [
        "Đầu vào cho một hàm được gọi là tham số hình thức.\n",
        "\n",
        "Biến được khai báo trong một hàm được gọi là biến cục bộ. Tham số chỉ tồn tại trong hàm (tức là điểm mà hàm bắt đầu và dừng).\n",
        "\n",
        "Biến được khai báo bên ngoài định nghĩa hàm là một biến toàn cục và giá trị của nó có thể truy cập và sửa đổi được trong suốt chương trình. Chúng ta sẽ thảo luận thêm về các biến toàn cục ở phần cuối của lab.\n"
      ]
    },
    {
      "cell_type": "code",
      "metadata": {
        "id": "3fhuW5AhIC3t"
      },
      "source": [
        "# Function Definition\n",
        "\n",
        "def square(a):\n",
        "\n",
        "    # Local variable b\n",
        "    b = 1\n",
        "    c = a * a + b\n",
        "    print(a, \"if you square + 1\", c)\n",
        "    return(c)"
      ],
      "execution_count": 9,
      "outputs": []
    },
    {
      "cell_type": "markdown",
      "metadata": {
        "id": "PSuN1nW8IC3u"
      },
      "source": [
        "Các nhãn được hiển thị trong hình:\n",
        "\n"
      ]
    },
    {
      "cell_type": "markdown",
      "metadata": {
        "id": "ai96X27TIC3u"
      },
      "source": [
        "<img src=\"https://cf-courses-data.s3.us.cloud-object-storage.appdomain.cloud/IBMDeveloperSkillsNetwork-PY0101EN-SkillsNetwork/labs/Module%203/images/FuncsVar.png\" width=\"500\" />\n"
      ]
    },
    {
      "cell_type": "markdown",
      "metadata": {
        "id": "GBvsLZwyIC3u"
      },
      "source": [
        "Chúng ta có thể gọi hàm với đầu vào là <b> 3</b>:"
      ]
    },
    {
      "cell_type": "code",
      "metadata": {
        "id": "gbdh-L20IC3u",
        "outputId": "5f710f99-c5eb-40ef-86d0-e4f90ef67954",
        "colab": {
          "base_uri": "https://localhost:8080/"
        }
      },
      "source": [
        "# Initializes Global variable\n",
        "\n",
        "x = 3\n",
        "# Makes function call and return function a y\n",
        "y = square(x)\n",
        "y"
      ],
      "execution_count": 10,
      "outputs": [
        {
          "output_type": "stream",
          "name": "stdout",
          "text": [
            "3 if you square + 1 10\n"
          ]
        },
        {
          "output_type": "execute_result",
          "data": {
            "text/plain": [
              "10"
            ]
          },
          "metadata": {},
          "execution_count": 10
        }
      ]
    },
    {
      "cell_type": "markdown",
      "metadata": {
        "id": "xwQ7zL31IC3u"
      },
      "source": [
        "Chúng ta có thể gọi hàm với đầu vào là <b> 2</b> theo một cách khác:"
      ]
    },
    {
      "cell_type": "code",
      "metadata": {
        "id": "xTNbFJacIC3v",
        "outputId": "311cd5ac-62f7-491c-db11-616f9fb546aa",
        "colab": {
          "base_uri": "https://localhost:8080/"
        }
      },
      "source": [
        "# Directly enter a number as parameter\n",
        "\n",
        "square(2)"
      ],
      "execution_count": 11,
      "outputs": [
        {
          "output_type": "stream",
          "name": "stdout",
          "text": [
            "2 if you square + 1 5\n"
          ]
        },
        {
          "output_type": "execute_result",
          "data": {
            "text/plain": [
              "5"
            ]
          },
          "metadata": {},
          "execution_count": 11
        }
      ]
    },
    {
      "cell_type": "markdown",
      "metadata": {
        "id": "NONNmaN0IC3v"
      },
      "source": [
        "Nếu không có câu lệnh <code> return</code>, hàm sẽ trả về <code> None</code>. Hai hàm sau là tương đương:"
      ]
    },
    {
      "cell_type": "code",
      "metadata": {
        "id": "NTTpid-ZIC3v"
      },
      "source": [
        "# Define functions, one with return value None and other without return value\n",
        "\n",
        "def MJ():\n",
        "    print('Michael Jackson')\n",
        "\n",
        "def MJ1():\n",
        "    print('Michael Jackson')\n",
        "    return(None)"
      ],
      "execution_count": 12,
      "outputs": []
    },
    {
      "cell_type": "code",
      "metadata": {
        "id": "ZE0woyx0IC3v",
        "outputId": "919d0b76-fc12-40b2-cd67-d584d1ba70c4",
        "colab": {
          "base_uri": "https://localhost:8080/"
        }
      },
      "source": [
        "# See the output\n",
        "\n",
        "MJ()"
      ],
      "execution_count": 13,
      "outputs": [
        {
          "output_type": "stream",
          "name": "stdout",
          "text": [
            "Michael Jackson\n"
          ]
        }
      ]
    },
    {
      "cell_type": "code",
      "metadata": {
        "id": "wgWU4d9wIC3v",
        "outputId": "4345fb76-507c-42a8-b0c7-2186ff62481a",
        "colab": {
          "base_uri": "https://localhost:8080/"
        }
      },
      "source": [
        "# See the output\n",
        "\n",
        "MJ1()"
      ],
      "execution_count": 14,
      "outputs": [
        {
          "output_type": "stream",
          "name": "stdout",
          "text": [
            "Michael Jackson\n"
          ]
        }
      ]
    },
    {
      "cell_type": "markdown",
      "metadata": {
        "id": "eZ1ffwNJIC3w"
      },
      "source": [
        "Việc in hàm sau khi gọi sẽ hiển thị câu lệnh trả về mặc định **None**:"
      ]
    },
    {
      "cell_type": "code",
      "metadata": {
        "id": "sWZIgh7iIC3w",
        "outputId": "97e4a339-8585-4928-b7f1-e1af89608351",
        "colab": {
          "base_uri": "https://localhost:8080/"
        }
      },
      "source": [
        "# See what functions returns are\n",
        "\n",
        "print(MJ())\n",
        "print(MJ1())"
      ],
      "execution_count": 15,
      "outputs": [
        {
          "output_type": "stream",
          "name": "stdout",
          "text": [
            "Michael Jackson\n",
            "None\n",
            "Michael Jackson\n",
            "None\n"
          ]
        }
      ]
    },
    {
      "cell_type": "markdown",
      "metadata": {
        "id": "iTo1Z-AcIC3w"
      },
      "source": [
        "Tạo hàm <code> con</code> nối hai string bằng phép toán cộng:"
      ]
    },
    {
      "cell_type": "code",
      "metadata": {
        "jupyter": {
          "outputs_hidden": true
        },
        "id": "GO1oPK2pIC3w"
      },
      "source": [
        "# Define the function for combining strings\n",
        "\n",
        "def con(a, b):\n",
        "    return(a + b)"
      ],
      "execution_count": 16,
      "outputs": []
    },
    {
      "cell_type": "code",
      "metadata": {
        "id": "sg0fcla1IC3x",
        "outputId": "26dc1dc6-f49b-4885-d6f0-08737eedb269",
        "colab": {
          "base_uri": "https://localhost:8080/",
          "height": 35
        }
      },
      "source": [
        "# Test on the con() function\n",
        "\n",
        "con(\"This \", \"is\")"
      ],
      "execution_count": 17,
      "outputs": [
        {
          "output_type": "execute_result",
          "data": {
            "text/plain": [
              "'This is'"
            ],
            "application/vnd.google.colaboratory.intrinsic+json": {
              "type": "string"
            }
          },
          "metadata": {},
          "execution_count": 17
        }
      ]
    },
    {
      "cell_type": "markdown",
      "metadata": {
        "id": "oz-aB8mEIC3x"
      },
      "source": [
        "<hr/>\n",
        "    <div class=\"alert alert-success alertsuccess\" style=\"margin-top: 20px\">\n",
        "        <h4> [Tip] Làm cách nào để tìm hiểu thêm về các hàm được định nghĩa trước trong Python? </h4>\n",
        "        <p>Chúng tôi sẽ giới thiệu các hàm định nghĩa trước khi bạn tìm hiểu thêm về Python. Vì có quá nhiều hàm nên không có cách nào để dạy tất cả liền một lúc. Nhưng nếu bạn muốn xem qua, hãy tham khảo thẻ sau cho một số hàm định nghĩa trước thường được sử dụng: <a href=\"https://cf-courses-data.s3.us.cloud-object-storage.appdomain.cloud/IBMDeveloperSkillsNetwork-PY0101EN-SkillsNetwork/labs/Module%203/Python_reference_sheet.pdf\">Tham khảo</a></p>\n",
        "    </div>\n",
        "<hr/>\n"
      ]
    },
    {
      "cell_type": "markdown",
      "metadata": {
        "id": "Jsjd_dw_IC3x"
      },
      "source": [
        "<h3 id=\"simple\">Hàm giúp đơn giản hóa mọi thứ</h3>\n"
      ]
    },
    {
      "cell_type": "markdown",
      "metadata": {
        "id": "3hY1_PFwIC3x"
      },
      "source": [
        "Hãy xem xét hai dòng code trong <b> Block 1</b> và <b> Block 2</b>: quy trình cho mỗi khối là giống nhau. Điều duy nhất khác biệt là tên và giá trị biến."
      ]
    },
    {
      "cell_type": "markdown",
      "metadata": {
        "id": "v_ujd83uIC3y"
      },
      "source": [
        "<h4>Block 1:</h4>\n"
      ]
    },
    {
      "cell_type": "code",
      "metadata": {
        "id": "MYOw9FPfIC3y",
        "outputId": "01c5c2f8-d8cf-4379-e592-c9073a9e8a89",
        "colab": {
          "base_uri": "https://localhost:8080/"
        }
      },
      "source": [
        "# a and b calculation block1\n",
        "\n",
        "a1 = 4\n",
        "b1 = 5\n",
        "c1 = a1 + b1 + 2 * a1 * b1 - 1\n",
        "if(c1 < 0):\n",
        "    c1 = 0\n",
        "else:\n",
        "    c1 = 5\n",
        "c1"
      ],
      "execution_count": 18,
      "outputs": [
        {
          "output_type": "execute_result",
          "data": {
            "text/plain": [
              "5"
            ]
          },
          "metadata": {},
          "execution_count": 18
        }
      ]
    },
    {
      "cell_type": "markdown",
      "metadata": {
        "id": "zWMmacTRIC3y"
      },
      "source": [
        "<h4>Block 2:</h4>\n"
      ]
    },
    {
      "cell_type": "code",
      "metadata": {
        "id": "P2r6FEwFIC3z",
        "outputId": "2be988bc-6b02-430d-8d52-ba9b2c783e01",
        "colab": {
          "base_uri": "https://localhost:8080/"
        }
      },
      "source": [
        "# a and b calculation block2\n",
        "\n",
        "a2 = 0\n",
        "b2 = 0\n",
        "c2 = a2 + b2 + 2 * a2 * b2 - 1\n",
        "if(c2 < 0):\n",
        "    c2 = 0\n",
        "else:\n",
        "    c2 = 5\n",
        "c2"
      ],
      "execution_count": 19,
      "outputs": [
        {
          "output_type": "execute_result",
          "data": {
            "text/plain": [
              "0"
            ]
          },
          "metadata": {},
          "execution_count": 19
        }
      ]
    },
    {
      "cell_type": "markdown",
      "metadata": {
        "id": "-VVDvKXmIC3z"
      },
      "source": [
        "Chúng ta có thể thay thế các dòng code bằng một hàm. Hàm kết hợp nhiều lệnh thành một dòng code. Khi hàm được xác định, nó có thể được sử dụng nhiều lần. Bạn có thể gọi cùng một hàm nhiều lần trong chương trình của mình. Bạn có thể lưu hàm của mình và sử dụng nó trong một chương trình khác hoặc sử dụng hàm của người khác. Các dòng code trong code <b> Block 1 </b> và code <b> Block 2 </b> có thể được thay thế bằng hàm sau:"
      ]
    },
    {
      "cell_type": "code",
      "metadata": {
        "id": "_ZtEyTMiIC3z"
      },
      "source": [
        "# Make a Function for the calculation above\n",
        "\n",
        "def Equation(a,b):\n",
        "    c = a + b + 2 * a * b - 1\n",
        "    if(c < 0):\n",
        "        c = 0\n",
        "    else:\n",
        "        c = 5\n",
        "    return(c)"
      ],
      "execution_count": 20,
      "outputs": []
    },
    {
      "cell_type": "markdown",
      "metadata": {
        "id": "a-TREgfzIC3z"
      },
      "source": [
        "Hàm này nhận hai đầu vào a và b, sau đó áp dụng một số phép toán để trả về c.\n",
        "Chúng ta chỉ cần xác định hàm, thay thế các lệnh bằng hàm và nhập các giá trị mới của <code> a1</code>, <code> b1</code> và <code> a2</code>, <code> b2</code> làm đầu vào. Toàn bộ quá trình được thể hiện trong hình:"
      ]
    },
    {
      "cell_type": "markdown",
      "metadata": {
        "id": "idoCl9uMIC30"
      },
      "source": [
        "<img src=\"https://cf-courses-data.s3.us.cloud-object-storage.appdomain.cloud/IBMDeveloperSkillsNetwork-PY0101EN-SkillsNetwork/labs/Module%203/images/FuncsPros.gif\" width=\"850\" />\n"
      ]
    },
    {
      "cell_type": "markdown",
      "metadata": {
        "id": "zWLevxa5IC30"
      },
      "source": [
        "Code **Blocks 1** và **Block 2** giờ có thể thay thế bằng code **Block 3** và code **Block 4**.\n"
      ]
    },
    {
      "cell_type": "markdown",
      "metadata": {
        "id": "J41dRyxGIC30"
      },
      "source": [
        "<h4>Block 3:</h4>\n"
      ]
    },
    {
      "cell_type": "code",
      "metadata": {
        "id": "mqQq6BrmIC30",
        "outputId": "3c84acb1-e596-46e8-8bd8-a7e651551682",
        "colab": {
          "base_uri": "https://localhost:8080/"
        }
      },
      "source": [
        "a1 = 4\n",
        "b1 = 5\n",
        "c1 = Equation(a1, b1)\n",
        "c1"
      ],
      "execution_count": 21,
      "outputs": [
        {
          "output_type": "execute_result",
          "data": {
            "text/plain": [
              "5"
            ]
          },
          "metadata": {},
          "execution_count": 21
        }
      ]
    },
    {
      "cell_type": "markdown",
      "metadata": {
        "id": "OCv3Dw8xIC30"
      },
      "source": [
        "<h4>Block 4:</h4>\n"
      ]
    },
    {
      "cell_type": "code",
      "metadata": {
        "id": "5ivTJoHtIC31",
        "outputId": "46c511f6-7f25-4ba4-fcc5-dc8ace08013d",
        "colab": {
          "base_uri": "https://localhost:8080/"
        }
      },
      "source": [
        "a2 = 0\n",
        "b2 = 0\n",
        "c2 = Equation(a2, b2)\n",
        "c2"
      ],
      "execution_count": 22,
      "outputs": [
        {
          "output_type": "execute_result",
          "data": {
            "text/plain": [
              "0"
            ]
          },
          "metadata": {},
          "execution_count": 22
        }
      ]
    },
    {
      "cell_type": "markdown",
      "metadata": {
        "id": "IypXZwGiIC31"
      },
      "source": [
        "<hr>\n"
      ]
    },
    {
      "cell_type": "markdown",
      "metadata": {
        "id": "Fd3TlBDLIC31"
      },
      "source": [
        "<h2 id=\"pre\">Hàm định nghĩa trước</h2>\n"
      ]
    },
    {
      "cell_type": "markdown",
      "metadata": {
        "id": "TPm9QzYqIC31"
      },
      "source": [
        "Trong Python có rất nhiều hàm định nghĩa trước, hãy bắt đầu với những hàm đơn giản trước."
      ]
    },
    {
      "cell_type": "markdown",
      "metadata": {
        "id": "6raqWfXSIC31"
      },
      "source": [
        "Hàm <code>print()</code>:\n"
      ]
    },
    {
      "cell_type": "code",
      "metadata": {
        "id": "gahEdO8rIC32",
        "outputId": "79008c6e-9f64-483f-a13e-6e171fdcf34d",
        "colab": {
          "base_uri": "https://localhost:8080/"
        }
      },
      "source": [
        "# Build-in function print()\n",
        "\n",
        "album_ratings = [10.0, 8.5, 9.5, 7.0, 7.0, 9.5, 9.0, 9.5]\n",
        "print(album_ratings)"
      ],
      "execution_count": 23,
      "outputs": [
        {
          "output_type": "stream",
          "name": "stdout",
          "text": [
            "[10.0, 8.5, 9.5, 7.0, 7.0, 9.5, 9.0, 9.5]\n"
          ]
        }
      ]
    },
    {
      "cell_type": "markdown",
      "metadata": {
        "id": "xOLbdPeOIC32"
      },
      "source": [
        "Hàm <code>sum()</code> cộng tất cả các phần tử trong một list hoặc tuple:"
      ]
    },
    {
      "cell_type": "code",
      "metadata": {
        "id": "GhMP7fGwIC32",
        "outputId": "ce101ea2-db8f-40f8-c24f-6ff78c436173",
        "colab": {
          "base_uri": "https://localhost:8080/"
        }
      },
      "source": [
        "# Use sum() to add every element in a list or tuple together\n",
        "\n",
        "sum(album_ratings)"
      ],
      "execution_count": 24,
      "outputs": [
        {
          "output_type": "execute_result",
          "data": {
            "text/plain": [
              "70.0"
            ]
          },
          "metadata": {},
          "execution_count": 24
        }
      ]
    },
    {
      "cell_type": "markdown",
      "metadata": {
        "id": "W7KeFXHhIC32"
      },
      "source": [
        "Hàm <code>len()</code> trả về độ dài của list hoặc tuple:"
      ]
    },
    {
      "cell_type": "code",
      "metadata": {
        "id": "Byt2leUMIC32",
        "outputId": "90737fa7-1418-4835-856c-c255b235f851",
        "colab": {
          "base_uri": "https://localhost:8080/"
        }
      },
      "source": [
        "# Show the length of the list or tuple\n",
        "\n",
        "len(album_ratings)"
      ],
      "execution_count": 25,
      "outputs": [
        {
          "output_type": "execute_result",
          "data": {
            "text/plain": [
              "8"
            ]
          },
          "metadata": {},
          "execution_count": 25
        }
      ]
    },
    {
      "cell_type": "markdown",
      "metadata": {
        "id": "x1-T2n1vIC33"
      },
      "source": [
        "<h2 id=\"if\">Sử dụng câu lệnh <code>if</code>/<code>else</code> và Vòng lặp trong hàm</h2>\n"
      ]
    },
    {
      "cell_type": "markdown",
      "metadata": {
        "id": "kEf2j1-fIC33"
      },
      "source": [
        "Hàm <code> return()</code> đặc biệt hữu ích nếu hàm của bạn có bất kỳ câu lệnh IF nào khi bạn muốn đầu ra của mình phụ thuộc vào một số điều kiện:"
      ]
    },
    {
      "cell_type": "code",
      "metadata": {
        "id": "O1F8QEfwIC33",
        "outputId": "17a12be0-70c0-49da-db21-164c7e75139f",
        "colab": {
          "base_uri": "https://localhost:8080/"
        }
      },
      "source": [
        "# Function example\n",
        "\n",
        "def type_of_album(artist, album, year_released):\n",
        "\n",
        "    print(artist, album, year_released)\n",
        "    if year_released > 1980:\n",
        "        return \"Modern\"\n",
        "    else:\n",
        "        return \"Oldie\"\n",
        "\n",
        "x = type_of_album(\"Michael Jackson\", \"Thriller\", 1980)\n",
        "print(x)"
      ],
      "execution_count": 26,
      "outputs": [
        {
          "output_type": "stream",
          "name": "stdout",
          "text": [
            "Michael Jackson Thriller 1980\n",
            "Oldie\n"
          ]
        }
      ]
    },
    {
      "cell_type": "markdown",
      "metadata": {
        "id": "1LawQSNRIC33"
      },
      "source": [
        "Chúng ta có thể sử dụng vòng lặp trong hàm. Ví dụ: chúng ta có thể <code> in</code> ra từng phần tử trong list:"
      ]
    },
    {
      "cell_type": "code",
      "metadata": {
        "id": "-DCeXG5JIC33"
      },
      "source": [
        "# Print the list using for loop\n",
        "\n",
        "def PrintList(the_list):\n",
        "    for element in the_list:\n",
        "        print(element)"
      ],
      "execution_count": 27,
      "outputs": []
    },
    {
      "cell_type": "code",
      "metadata": {
        "id": "e1FmKCBgIC34",
        "outputId": "b11b886c-c03d-4a91-f441-ba85a285f208",
        "colab": {
          "base_uri": "https://localhost:8080/"
        }
      },
      "source": [
        "# Implement the printlist function\n",
        "\n",
        "PrintList(['1', 1, 'the man', \"abc\"])"
      ],
      "execution_count": 28,
      "outputs": [
        {
          "output_type": "stream",
          "name": "stdout",
          "text": [
            "1\n",
            "1\n",
            "the man\n",
            "abc\n"
          ]
        }
      ]
    },
    {
      "cell_type": "markdown",
      "metadata": {
        "id": "KDBQlvDBIC34"
      },
      "source": [
        "<hr>\n"
      ]
    },
    {
      "cell_type": "markdown",
      "metadata": {
        "id": "B_QoLV7gIC34"
      },
      "source": [
        "<h2 id=\"default\">Thiết lập giá trị đối số mặc định trong các hàm tùy chỉnh</h2>\n"
      ]
    },
    {
      "cell_type": "markdown",
      "metadata": {
        "id": "aiF1tZEaIC34"
      },
      "source": [
        "Bạn có thể đặt giá trị mặc định cho các đối số trong hàm của mình. Ví dụ: trong hàm <code>isGoodRating()</code>, điều gì sẽ xảy ra nếu chúng ta muốn tạo một ngưỡng cho những gì được coi là xếp hạng tốt? Có lẽ chúng ta nên có xếp hạng mặc định là 4:"
      ]
    },
    {
      "cell_type": "code",
      "metadata": {
        "id": "xmPEBiSIIC35"
      },
      "source": [
        "# Example for setting param with default value\n",
        "\n",
        "def isGoodRating(rating=4):\n",
        "    if(rating < 7):\n",
        "        print(\"this album sucks it's rating is\",rating)\n",
        "\n",
        "    else:\n",
        "        print(\"this album is good its rating is\",rating)\n"
      ],
      "execution_count": 29,
      "outputs": []
    },
    {
      "cell_type": "code",
      "metadata": {
        "id": "3EMiFI-LIC35",
        "outputId": "2f82f97f-7aa8-4bb4-9e16-86223a683970",
        "colab": {
          "base_uri": "https://localhost:8080/"
        }
      },
      "source": [
        "# Test the value with default value and with input\n",
        "\n",
        "isGoodRating()\n",
        "isGoodRating(10)"
      ],
      "execution_count": 30,
      "outputs": [
        {
          "output_type": "stream",
          "name": "stdout",
          "text": [
            "this album sucks it's rating is 4\n",
            "this album is good its rating is 10\n"
          ]
        }
      ]
    },
    {
      "cell_type": "markdown",
      "metadata": {
        "id": "9LVi8e6XIC35"
      },
      "source": [
        "<hr>\n"
      ]
    },
    {
      "cell_type": "markdown",
      "metadata": {
        "id": "tNAv9lQ5IC35"
      },
      "source": [
        "<h2 id=\"global\">Biến toàn cục</h2>\n"
      ]
    },
    {
      "cell_type": "markdown",
      "metadata": {
        "id": "reURQ3_GIC35"
      },
      "source": [
        "Chúng ta đã tạo ra các biến bên trong các hàm, nhưng chưa thảo luận về các biến bên ngoài hàm. Chúng được gọi là các biến toàn cục.\n",
        "<br>\n",
        "Hãy thử xem <code> print1</code> trả về những gì:"
      ]
    },
    {
      "cell_type": "code",
      "metadata": {
        "id": "FB9sDTEdIC35",
        "outputId": "5413fe6b-f16f-4999-93fd-258edd7ed8de",
        "colab": {
          "base_uri": "https://localhost:8080/"
        }
      },
      "source": [
        "# Example of global variable\n",
        "\n",
        "artist = \"Michael Jackson\"\n",
        "def printer1(artist):\n",
        "    internal_var1 = artist\n",
        "    print(artist, \"is an artist\")\n",
        "\n",
        "printer1(artist)\n",
        "# try runningthe following code\n",
        "#printer1(internal_var1)"
      ],
      "execution_count": 31,
      "outputs": [
        {
          "output_type": "stream",
          "name": "stdout",
          "text": [
            "Michael Jackson is an artist\n"
          ]
        }
      ]
    },
    {
      "cell_type": "markdown",
      "metadata": {
        "id": "5K8Gl2hQIC36"
      },
      "source": [
        "<b>Chúng ta có Name Error:  <code>name 'internal_var' is not defined</code>. Tạo sao?</b>  \n",
        "\n",
        "Đó là bởi vì tất cả các biến chúng ta tạo trong hàm là <b> biến cục bộ</b>, có nghĩa là việc gán biến không tồn tại bên ngoài hàm.\n",
        "\n",
        "Nhưng có một cách để tạo <b> biến toàn cục</b> từ bên trong một hàm như sau:\n"
      ]
    },
    {
      "cell_type": "code",
      "metadata": {
        "id": "cGdk4AAaIC36",
        "outputId": "2b9fd212-c825-481f-e1be-6ad67a97402a",
        "colab": {
          "base_uri": "https://localhost:8080/"
        }
      },
      "source": [
        "artist = \"Michael Jackson\"\n",
        "\n",
        "def printer(artist):\n",
        "    global internal_var\n",
        "    internal_var= \"Whitney Houston\"\n",
        "    print(artist,\"is an artist\")\n",
        "\n",
        "printer(artist)\n",
        "printer(internal_var)"
      ],
      "execution_count": 32,
      "outputs": [
        {
          "output_type": "stream",
          "name": "stdout",
          "text": [
            "Michael Jackson is an artist\n",
            "Whitney Houston is an artist\n"
          ]
        }
      ]
    },
    {
      "cell_type": "markdown",
      "metadata": {
        "id": "sY7p32tyIC36"
      },
      "source": [
        "<h2 id=\"scope\">Phạm vi của một biến</h2>\n"
      ]
    },
    {
      "cell_type": "markdown",
      "metadata": {
        "id": "yLTPxpT_IC37"
      },
      "source": [
        " Phạm vi của một biến là một phần của chương trình mà biến đó có thể truy cập được. Các biến được khai báo bên ngoài tất cả các định nghĩa hàm, chẳng hạn như biến <code>myFavouriteBand</code> trong code hiển thị ở đây, có thể truy cập được từ bất kỳ đâu trong chương trình. Kết quả là, các biến như vậy được cho là có phạm vi toàn cục và được gọi là các biến toàn cục.\n",
        "    <code>myFavouriteBand</code> là một biến toàn cục, vì vậy nó có thể truy cập được từ bên trong hàm <code>getBandRating</code> và chúng ta có thể sử dụng nó để xác định xếp hạng của một ban nhạc. Chúng ta cũng có thể sử dụng nó bên ngoài hàm, chẳng hạn như khi chuyển nó cho hàm print để hiển thị nó:"
      ]
    },
    {
      "cell_type": "code",
      "metadata": {
        "id": "vzK-ZwUdIC37",
        "outputId": "b8bba1fa-b9df-4b0c-c5ad-90b92b7968cb",
        "colab": {
          "base_uri": "https://localhost:8080/"
        }
      },
      "source": [
        "# Example of global variable\n",
        "\n",
        "myFavouriteBand = \"AC/DC\"\n",
        "\n",
        "def getBandRating(bandname):\n",
        "    if bandname == myFavouriteBand:\n",
        "        return 10.0\n",
        "    else:\n",
        "        return 0.0\n",
        "\n",
        "print(\"AC/DC's rating is:\", getBandRating(\"AC/DC\"))\n",
        "print(\"Deep Purple's rating is:\",getBandRating(\"Deep Purple\"))\n",
        "print(\"My favourite band is:\", myFavouriteBand)"
      ],
      "execution_count": 33,
      "outputs": [
        {
          "output_type": "stream",
          "name": "stdout",
          "text": [
            "AC/DC's rating is: 10.0\n",
            "Deep Purple's rating is: 0.0\n",
            "My favourite band is: AC/DC\n"
          ]
        }
      ]
    },
    {
      "cell_type": "markdown",
      "metadata": {
        "id": "HyrnJFmEIC37"
      },
      "source": [
        "Hãy xem phiên bản đã sửa code này của chúng ta. Bây giờ biến <code> myFavouriteBand</code> được xác định trong hàm <code> getBandRating</code>. Một biến được xác định trong một hàm được cho là một biến cục bộ của hàm đó. Điều đó có nghĩa là nó chỉ có thể truy cập được từ bên trong hàm mà nó được xác định. Hàm <code> getBandRating</code> của chúng ta sẽ vẫn hoạt động vì <code> myFavouriteBand</code> vẫn được xác định trong hàm. Tuy nhiên, chúng ta không thể in <code> myFavouriteBand</code> bên ngoài hàm nữa, vì nó là một biến cục bộ của hàm <code> getBandRating</code>; nó chỉ được xác định trong hàm <code> getBandRating</code>:"
      ]
    },
    {
      "cell_type": "code",
      "metadata": {
        "id": "iz8E24q3IC37",
        "outputId": "c969d061-46b9-45bc-c759-1ee99a94421e",
        "colab": {
          "base_uri": "https://localhost:8080/"
        }
      },
      "source": [
        "# Example of local variable\n",
        "\n",
        "def getBandRating(bandname):\n",
        "    myFavouriteBand = \"AC/DC\"\n",
        "    if bandname == myFavouriteBand:\n",
        "        return 10.0\n",
        "    else:\n",
        "        return 0.0\n",
        "\n",
        "print(\"AC/DC's rating is: \", getBandRating(\"AC/DC\"))\n",
        "print(\"Deep Purple's rating is: \", getBandRating(\"Deep Purple\"))\n",
        "print(\"My favourite band is\", myFavouriteBand)"
      ],
      "execution_count": 34,
      "outputs": [
        {
          "output_type": "stream",
          "name": "stdout",
          "text": [
            "AC/DC's rating is:  10.0\n",
            "Deep Purple's rating is:  0.0\n",
            "My favourite band is AC/DC\n"
          ]
        }
      ]
    },
    {
      "cell_type": "markdown",
      "metadata": {
        "id": "90el7XgPIC38"
      },
      "source": [
        "Cuối cùng, hãy xem ví dụ này. Bây giờ chúng ta có hai định nghĩa biến <code> myFavouriteBand</code>. Cái đầu tiên trong số này có phạm vi toàn cục và cái thứ hai là biến cục bộ trong hàm <code> getBandRating</code>. Trong hàm <code> getBandRating</code>, biến cục bộ được ưu tiên. **Deep Purple** sẽ được xếp hạng 10.0 khi được chuyển đến hàm <code> getBandRating</code>. Tuy nhiên, bên ngoài hàm <code> getBandRating</code>, biến cục bộ của <code> getBandRating</code> không được xác định, vì vậy biến <code> myFavouriteBand</code> mà chúng ta in là biến toàn cục, có giá trị là **AC/DC**:"
      ]
    },
    {
      "cell_type": "code",
      "metadata": {
        "id": "QFDqapXyIC38",
        "outputId": "e29af473-de25-446e-81ba-764b163eabe4",
        "colab": {
          "base_uri": "https://localhost:8080/"
        }
      },
      "source": [
        "# Example of global variable and local variable with the same name\n",
        "\n",
        "myFavouriteBand = \"AC/DC\"\n",
        "\n",
        "def getBandRating(bandname):\n",
        "    myFavouriteBand = \"Deep Purple\"\n",
        "    if bandname == myFavouriteBand:\n",
        "        return 10.0\n",
        "    else:\n",
        "        return 0.0\n",
        "\n",
        "print(\"AC/DC's rating is:\",getBandRating(\"AC/DC\"))\n",
        "print(\"Deep Purple's rating is: \",getBandRating(\"Deep Purple\"))\n",
        "print(\"My favourite band is:\",myFavouriteBand)"
      ],
      "execution_count": 35,
      "outputs": [
        {
          "output_type": "stream",
          "name": "stdout",
          "text": [
            "AC/DC's rating is: 0.0\n",
            "Deep Purple's rating is:  10.0\n",
            "My favourite band is: AC/DC\n"
          ]
        }
      ]
    },
    {
      "cell_type": "markdown",
      "metadata": {
        "id": "QAvSpl_6IC38"
      },
      "source": [
        "<hr>\n",
        "<h2 id =\"collec\">Kiểu dữ liệu tập hợp và hàm</h2>\n"
      ]
    },
    {
      "cell_type": "markdown",
      "metadata": {
        "id": "h8wa5YJOIC38"
      },
      "source": [
        "Khi số lượng đối số cho một hàm không xác định, tất cả có thể được đóng gói thành một tuple như được hiển thị:"
      ]
    },
    {
      "cell_type": "code",
      "metadata": {
        "id": "-Vd_WwoTIC38",
        "outputId": "99ea0633-20f3-413d-af50-1af24c8c23e9",
        "colab": {
          "base_uri": "https://localhost:8080/"
        }
      },
      "source": [
        "def printAll(*args): # All the arguments are 'packed' into args which can be treated like a tuple\n",
        "    print(\"No of arguments:\", len(args))\n",
        "    for argument in args:\n",
        "        print(argument)\n",
        "#printAll with 3 arguments\n",
        "printAll('Horsefeather','Adonis','Bone')\n",
        "#printAll with 4 arguments\n",
        "printAll('Sidecar','Long Island','Mudslide','Carriage')"
      ],
      "execution_count": 36,
      "outputs": [
        {
          "output_type": "stream",
          "name": "stdout",
          "text": [
            "No of arguments: 3\n",
            "Horsefeather\n",
            "Adonis\n",
            "Bone\n",
            "No of arguments: 4\n",
            "Sidecar\n",
            "Long Island\n",
            "Mudslide\n",
            "Carriage\n"
          ]
        }
      ]
    },
    {
      "cell_type": "markdown",
      "metadata": {
        "id": "Ul2a1c_6IC39"
      },
      "source": [
        "Tương tự, các đối số cũng có thể được đóng gói vào một dictionary như được hiển thị:"
      ]
    },
    {
      "cell_type": "code",
      "metadata": {
        "id": "rEzyU_3_IC39",
        "outputId": "3e270297-0d62-4ae0-fcfb-5735b6a03254",
        "colab": {
          "base_uri": "https://localhost:8080/"
        }
      },
      "source": [
        "def printDictionary(**args):\n",
        "    for key in args:\n",
        "        print(key + \" : \" + args[key])\n",
        "\n",
        "printDictionary(Country='Canada',Province='Ontario',City='Toronto')\n"
      ],
      "execution_count": 37,
      "outputs": [
        {
          "output_type": "stream",
          "name": "stdout",
          "text": [
            "Country : Canada\n",
            "Province : Ontario\n",
            "City : Toronto\n"
          ]
        }
      ]
    },
    {
      "cell_type": "markdown",
      "metadata": {
        "id": "LcEeIU3ZIC39"
      },
      "source": [
        "Các hàm có thể cực kỳ mạnh mẽ và linh hoạt. Chúng có thể chấp nhận (và trả về) các kiểu dữ liệu, đối tượng và thậm chí cả các hàm khác dưới dạng đối số. Hãy xem xét ví dụ dưới đây:"
      ]
    },
    {
      "cell_type": "code",
      "metadata": {
        "id": "12LZ3_W7IC39",
        "outputId": "4647af48-a348-4f2f-a36b-405c9e8e2380",
        "colab": {
          "base_uri": "https://localhost:8080/"
        }
      },
      "source": [
        "def addItems(list):\n",
        "    list.append(\"Three\")\n",
        "    list.append(\"Four\")\n",
        "\n",
        "myList = [\"One\",\"Two\"]\n",
        "\n",
        "addItems(myList)\n",
        "\n",
        "myList\n"
      ],
      "execution_count": 38,
      "outputs": [
        {
          "output_type": "execute_result",
          "data": {
            "text/plain": [
              "['One', 'Two', 'Three', 'Four']"
            ]
          },
          "metadata": {},
          "execution_count": 38
        }
      ]
    },
    {
      "cell_type": "markdown",
      "metadata": {
        "id": "lZ90fNY2IC39"
      },
      "source": [
        "<hr>\n",
        "Lưu ý cách các thay đổi được thực hiện đối với list không giới hạn trong phạm vi hàm. Điều này xảy ra vì nó là list **tham chiếu** được chuyển đến hàm - Bất kỳ thay đổi nào được thực hiện đều nằm ở phiên bản gốc của list. Do đó, mọi người nên thận trọng khi truyền các đối tượng có thể thay đổi vào các hàm.\n",
        "\n",
        "<hr>"
      ]
    },
    {
      "cell_type": "markdown",
      "metadata": {
        "id": "Qo2Kr3zPIC3-"
      },
      "source": [
        "\n"
      ]
    },
    {
      "cell_type": "markdown",
      "metadata": {
        "id": "nlXlWgbNIC3-"
      },
      "source": [
        "\n"
      ]
    },
    {
      "cell_type": "markdown",
      "metadata": {
        "id": "ix5A3K8WIC3-"
      },
      "source": [
        "<h2>Quiz về Hàm</h2>\n"
      ]
    },
    {
      "cell_type": "markdown",
      "metadata": {
        "id": "B_rO1ThPIC3-"
      },
      "source": [
        "Hãy nghĩ ra một hàm để đầu vào thứ nhất chia cho đầu vào thứ hai:"
      ]
    },
    {
      "cell_type": "code",
      "metadata": {
        "id": "tFzx1lLJIC3-"
      },
      "source": [
        "# Write your code below and press Shift+Enter to execute\n",
        "def divide(a, b):\n",
        "  return(a/b)"
      ],
      "execution_count": 40,
      "outputs": []
    },
    {
      "cell_type": "markdown",
      "metadata": {
        "id": "8_1CXyGZIC3_"
      },
      "source": [
        "<details><summary>Bấm vào đây để xem đáp án</summary>\n",
        "\n",
        "```python\n",
        "def div(a, b):\n",
        "    return(a/b)\n",
        "    \n",
        "```\n",
        "\n",
        "</details>\n",
        "\n"
      ]
    },
    {
      "cell_type": "markdown",
      "metadata": {
        "id": "RarAoIagIC3_"
      },
      "source": [
        "<hr>\n"
      ]
    },
    {
      "cell_type": "markdown",
      "metadata": {
        "id": "R09snebJIC3_"
      },
      "source": [
        "Dùng hàm <code>con</code> cho câu hỏi sau.\n"
      ]
    },
    {
      "cell_type": "code",
      "metadata": {
        "id": "qPsP5gbOIC3_"
      },
      "source": [
        "# Use the con function for the following question\n",
        "\n",
        "def con(a, b):\n",
        "    return(a + b)"
      ],
      "execution_count": 1,
      "outputs": []
    },
    {
      "cell_type": "markdown",
      "metadata": {
        "id": "r9FqQGZ8IC3_"
      },
      "source": [
        "Hàm <code> con</code> đã xác định trước đây có thể được sử dụng để cộng hai số nguyên hoặc chuỗi không?"
      ]
    },
    {
      "cell_type": "code",
      "metadata": {
        "id": "rwzx8ZSYIC4A",
        "outputId": "5e901a6d-8590-4824-ee62-02afc1fb12fe",
        "colab": {
          "base_uri": "https://localhost:8080/"
        }
      },
      "source": [
        "# Write your code below and press Shift+Enter to execute\n",
        "print('Yes')\n",
        "con(6, 4)"
      ],
      "execution_count": 44,
      "outputs": [
        {
          "output_type": "stream",
          "name": "stdout",
          "text": [
            "Yes\n"
          ]
        },
        {
          "output_type": "execute_result",
          "data": {
            "text/plain": [
              "10"
            ]
          },
          "metadata": {},
          "execution_count": 44
        }
      ]
    },
    {
      "cell_type": "markdown",
      "metadata": {
        "id": "aZPd6ZtDIC4A"
      },
      "source": [
        "<details><summary>Bấm vào đây để xem đáp án</summary>\n",
        "\n",
        "```python\n",
        "Yes, for example:\n",
        "con(2, 2)\n",
        "    \n",
        "```\n",
        "\n",
        "</details>\n",
        "\n"
      ]
    },
    {
      "cell_type": "markdown",
      "metadata": {
        "id": "0B1aDTQmIC4A"
      },
      "source": [
        "<hr>\n"
      ]
    },
    {
      "cell_type": "markdown",
      "metadata": {
        "id": "0ZZ9t4LtIC4A"
      },
      "source": [
        "Hàm <code> con</code> đã xác định trước đây có thể được sử dụng để nối các list hoặc tuple không?"
      ]
    },
    {
      "cell_type": "code",
      "metadata": {
        "id": "53HxoPwzIC4A",
        "outputId": "f2c0cae4-5d68-4c08-dd5a-8ec6f1ac9414",
        "colab": {
          "base_uri": "https://localhost:8080/"
        }
      },
      "source": [
        "# Write your code below and press Shift+Enter to execute\n",
        "print('Yes')\n",
        "con(['d', 's'], ['m', 'm', 'c'])"
      ],
      "execution_count": 2,
      "outputs": [
        {
          "output_type": "stream",
          "name": "stdout",
          "text": [
            "Yes\n"
          ]
        },
        {
          "output_type": "execute_result",
          "data": {
            "text/plain": [
              "['d', 's', 'm', 'm', 'c']"
            ]
          },
          "metadata": {},
          "execution_count": 2
        }
      ]
    },
    {
      "cell_type": "markdown",
      "metadata": {
        "id": "0d8uvpPXIC4B"
      },
      "source": [
        "<details><summary>Bấm vào đây để xem đáp án</summary>\n",
        "\n",
        "```python\n",
        "Yes, for example:\n",
        "con(['a', 1], ['b', 1])\n",
        "    \n",
        "```\n",
        "\n",
        "</details>\n",
        "\n"
      ]
    },
    {
      "cell_type": "markdown",
      "metadata": {
        "id": "AHSf-_bhIC4B"
      },
      "source": [
        "<hr>\n",
        "Nguồn: IBM\n",
        "<hr>\n"
      ]
    }
  ]
}