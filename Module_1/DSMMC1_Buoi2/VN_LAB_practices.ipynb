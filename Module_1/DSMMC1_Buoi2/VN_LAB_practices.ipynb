{
  "nbformat": 4,
  "nbformat_minor": 0,
  "metadata": {
    "colab": {
      "provenance": []
    },
    "kernelspec": {
      "name": "python3",
      "display_name": "Python 3"
    },
    "language_info": {
      "name": "python"
    }
  },
  "cells": [
    {
      "cell_type": "markdown",
      "source": [
        "# Exercise 1"
      ],
      "metadata": {
        "id": "IoXoD5jpjnEv"
      }
    },
    {
      "cell_type": "markdown",
      "source": [
        "## Question 1:\n",
        "  \n",
        "  Viết chương trình nhập vào một số thực. Đơn vị tính cho số này là centimet (cm). Hãy in ra số tương đương tính bằng foot (số thực, có 2 số lẻ thập phân) và inch (số thực, có 2 số lẻ thập phân). Với 1 inch = 2.54 cm và 1 foot = 12 inches."
      ],
      "metadata": {
        "id": "WrILcPRrjsMm"
      }
    },
    {
      "cell_type": "code",
      "execution_count": 11,
      "metadata": {
        "colab": {
          "base_uri": "https://localhost:8080/"
        },
        "id": "3PpKwL_EjdKP",
        "outputId": "193362ce-1f96-472a-fceb-f2998eef0acb"
      },
      "outputs": [
        {
          "output_type": "stream",
          "name": "stdout",
          "text": [
            "Nhập vào một số thực: 12.2\n",
            "Kết quả đổi sang inch: 4.8 \n",
            "Kết quả đổi sang feet: 0.4\n"
          ]
        }
      ],
      "source": [
        "def convert_centimet(value):\n",
        "  inch = value/2.54\n",
        "  foot = inch/12\n",
        "  return round(inch, 2), round(foot, 2)\n",
        "\n",
        "value = float(input(\"Nhập vào một số thực: \"))\n",
        "inch, foot = convert_centimet(value)\n",
        "print(\"Kết quả đổi sang inch:\", inch, \"\\nKết quả đổi sang feet:\", foot)"
      ]
    },
    {
      "cell_type": "markdown",
      "source": [
        "## Question 2:\n",
        "\n",
        "  Viết chương trình nhập vào số giây từ 0 tới 68399, đổi số giây này thành dạng [giờ:phút:giây], mỗi thành phần là một số nguyên có 2 chữ số.\n",
        "\n",
        "*   Ví dụ: 02:11:05\n",
        "\n",
        "\n"
      ],
      "metadata": {
        "id": "Skq51yApj3Mx"
      }
    },
    {
      "cell_type": "code",
      "source": [
        "def convert_seconds(seconds):\n",
        "    hours = seconds // 3600\n",
        "    remaining_seconds = seconds % 3600\n",
        "    minutes = remaining_seconds // 60\n",
        "    seconds = remaining_seconds % 60\n",
        "\n",
        "    return f'{hours:02}:{minutes:02}:{seconds:02}'\n",
        "\n",
        "while True:\n",
        "    try:\n",
        "        total_seconds = int(input(\"Nhập số giây từ 0 đến 68399: \"))\n",
        "        if 0 <= total_seconds <= 68399:\n",
        "            formatted_time = convert_seconds(total_seconds)\n",
        "            print(\"Định dạng giờ:phút:giây là\", formatted_time)\n",
        "            break\n",
        "        else:\n",
        "            print(\"Số giây không hợp lệ. Vui lòng nhập lại.\")\n",
        "    except ValueError:\n",
        "        print(\"Đây không phải là một số nguyên. Vui lòng nhập lại.\")"
      ],
      "metadata": {
        "colab": {
          "base_uri": "https://localhost:8080/"
        },
        "id": "oDtHiUlakHxE",
        "outputId": "616eb3f9-b14c-4472-dc97-54c971f97170"
      },
      "execution_count": 8,
      "outputs": [
        {
          "output_type": "stream",
          "name": "stdout",
          "text": [
            "Nhập số giây từ 0 đến 68399: 1000000\n",
            "Số giây không hợp lệ. Vui lòng nhập lại.\n",
            "Nhập số giây từ 0 đến 68399: 12\n",
            "Định dạng giờ:phút:giây là 00:00:12\n"
          ]
        }
      ]
    },
    {
      "cell_type": "markdown",
      "source": [
        "## Question 3:\n",
        "\n",
        "  Viết chương trình nhập vào 4 số nguyên. Hiển thị ra số lớn nhất và nhỏ nhất.\n",
        "  Ví dụ:\n",
        "    \n",
        "\n",
        "*   Nhập vào 4 số 1, 2, 3, 4\n",
        "*   Kết quả:\n",
        "\n",
        "      *   Số lớn nhất: 4\n",
        "      *   Số nhỏ nhất: 1\n",
        "\n",
        "\n",
        "\n"
      ],
      "metadata": {
        "id": "D7OB9rNKkIPT"
      }
    },
    {
      "cell_type": "code",
      "source": [
        "def min_max(num_list):\n",
        "    min_num = num_list[0]\n",
        "    max_num = num_list[0]\n",
        "\n",
        "    for num in num_list:\n",
        "        if num < min_num:\n",
        "            min_num = num\n",
        "        if num > max_num:\n",
        "            max_num = num\n",
        "\n",
        "    return min_num, max_num\n",
        "\n",
        "while True:\n",
        "    try:\n",
        "        input_str = input(\"Nhập 4 số nguyên: \")\n",
        "        num_list = list(map(int, input_str.split()))\n",
        "        min_number, max_number = min_max(num_list)\n",
        "        if min_number is not None and max_number is not None:\n",
        "            print(f\"Số nhỏ nhất là: {min_number}\")\n",
        "            print(f\"Số lớn nhất là: {max_number}\")\n",
        "            break\n",
        "    except ValueError:\n",
        "        print(\"Vui lòng nhập đúng định dạng số nguyên.\")\n"
      ],
      "metadata": {
        "colab": {
          "base_uri": "https://localhost:8080/"
        },
        "id": "WeM0AmIakksY",
        "outputId": "56452d25-8a0a-4fcd-a0c1-a5ae44ce5fde"
      },
      "execution_count": 16,
      "outputs": [
        {
          "output_type": "stream",
          "name": "stdout",
          "text": [
            "Nhập 4 số nguyên: 1 4 6 2\n",
            "Số nhỏ nhất là: 1\n",
            "Số lớn nhất là: 6\n"
          ]
        }
      ]
    },
    {
      "cell_type": "markdown",
      "source": [
        "## Question 4:\n",
        "\n",
        "  Nhập vào hai số tự nhiên a và b. Tính hiệu của hai số đó.\n",
        "\n",
        "\n",
        "*   Nếu hiệu số lớn hơn 0 thì in ra dòng chữ \"Số thứ nhất lớn hơn số thứ hai.\"\n",
        "*   Nếu hiệu số nhỏ hơn 0 thì in ra dòng chữ \"Số thứ nhất nhỏ hơn số thứ hai.\"\n",
        "\n"
      ],
      "metadata": {
        "id": "IBPiYxJqkluT"
      }
    },
    {
      "cell_type": "code",
      "source": [
        "def minus(a, b):\n",
        "  return (a-b)\n",
        "\n",
        "a, b = map(int, input(\"Nhập 2 số tự nhiên: \").split())\n",
        "value = minus(a, b)\n",
        "if value > 0:\n",
        "  print(f\"Số thứ nhất lớn hơn số thứ hai. Hiệu của hai số là: {value}\")\n",
        "else:\n",
        "  print(f\"Số thứ nhất nhỏ hơn số thứ hai. Hiệu của hai số là: {value}\")"
      ],
      "metadata": {
        "colab": {
          "base_uri": "https://localhost:8080/"
        },
        "id": "bqiosFQ0k-R7",
        "outputId": "82df3250-84f5-4db6-c624-06aa5a92cbd7"
      },
      "execution_count": 18,
      "outputs": [
        {
          "output_type": "stream",
          "name": "stdout",
          "text": [
            "Nhập 2 số tự nhiên: 2 10\n",
            "Số thứ nhất nhỏ hơn số thứ hai. Hiệu của hai số là: -8\n"
          ]
        }
      ]
    },
    {
      "cell_type": "markdown",
      "source": [
        "## Question 5:\n",
        "\n",
        "  Nhập vào 2 số tự nhiên a và b. Kiểm tra xem a có chia hết cho b không."
      ],
      "metadata": {
        "id": "npQeA1HmlLuW"
      }
    },
    {
      "cell_type": "code",
      "source": [
        "def is_disvible(a, b):\n",
        "  if a % b == 0:\n",
        "    return True\n",
        "  else:\n",
        "    return False\n",
        "\n",
        "a, b = map(int, input(\"Nhập 2 số tự nhiên: \").split())\n",
        "if is_disvible(a, b):\n",
        "  print(f\"{a} chia hết cho {b}.\")\n",
        "else:\n",
        "  print(f\"{a} không chia hết cho {b}.\")"
      ],
      "metadata": {
        "colab": {
          "base_uri": "https://localhost:8080/"
        },
        "id": "7CSqpE4VlSyX",
        "outputId": "b88f72f6-1c9a-4d33-8510-10554b8a55ee"
      },
      "execution_count": 20,
      "outputs": [
        {
          "output_type": "stream",
          "name": "stdout",
          "text": [
            "Nhập 2 số tự nhiên: 4 2\n",
            "4 chia hết cho 2.\n"
          ]
        }
      ]
    },
    {
      "cell_type": "markdown",
      "source": [
        "## Question 6:\n",
        "\n",
        "  Xếp loại sinh viên theo các quy luật dưới đây:\n",
        "\n",
        "\n",
        "*   Nếu điểm >= 9.0 - Loại xuất sắc\n",
        "*   Nếu 8.0 <= điểm - Loại giỏi\n",
        "*   Nếu 7.0 <= điểm < 8.0 - Loại khá\n",
        "\n",
        "*   Nếu 6.0 <= điểm < 7.0 - Loại trung bình khá\n",
        "*   Nếu 5.0 <= điểm < 6.0 - Loại trung bình\n",
        "*   Nếu điểm < 5.0 - Loại kém\n",
        "\n",
        "Với điểm = ((điểm toán)*2 + điểm lý + điểm hóa)/4\n",
        "\n",
        "Viết chương trình:\n",
        "\n",
        "1.   Nhập vào 3 điểm môn học\n",
        "2.   Tính điểm trung bình\n",
        "3.   Xác định học lực của học sinh dựa trên điểm trung bình\n",
        "4.   Hiển thị học lực của học sinh\n",
        "\n",
        "\n",
        "\n",
        "\n"
      ],
      "metadata": {
        "id": "3w4pMGSllTbm"
      }
    },
    {
      "cell_type": "code",
      "source": [
        "def mean_score(math, phy, chem):\n",
        "  mean = ((math * 2) + phy + chem)/4\n",
        "  return mean\n",
        "\n",
        "math, phy, chem = map(int, input(\"Nhập điểm toán, lý, hóa: \").split())\n",
        "score = mean_score(math, phy, chem)\n",
        "if score >= 9.0:\n",
        "  print(f\"{score} - Loại xuất sắc\")\n",
        "elif 9.0 > score >= 8.0:\n",
        "  print(f\"{score} - Loại giỏi\")\n",
        "elif 8.0 > score >= 7.0:\n",
        "  print(f\"{score} - Loại khá\")\n",
        "elif 7.0 > score >= 6.0:\n",
        "  print(f\"{score} - Loại trung bình khá\")\n",
        "elif 6.0 > score >= 5.0:\n",
        "  print(f\"{score} - Loại trung bình\")\n",
        "else:\n",
        "  print(f\"{score} - Loại kém\")"
      ],
      "metadata": {
        "colab": {
          "base_uri": "https://localhost:8080/"
        },
        "id": "Igaup06gma3W",
        "outputId": "b942093e-140b-4f61-cdee-bfc39b14f755"
      },
      "execution_count": 23,
      "outputs": [
        {
          "output_type": "stream",
          "name": "stdout",
          "text": [
            "Nhập điểm toán, lý, hóa: 10 6 9\n",
            "8.75 - Loại giỏi\n"
          ]
        }
      ]
    },
    {
      "cell_type": "markdown",
      "source": [
        "# Exercise 2:"
      ],
      "metadata": {
        "id": "-jLKCfgnmbaD"
      }
    },
    {
      "cell_type": "markdown",
      "source": [
        "## Question 1:\n",
        "\n",
        "  Hãy viết chương trình tính tổng các chữ số của một số nguyên bất kỳ.\n",
        "\n",
        "  Ví dụ:\n",
        "\n",
        "*   Số 8545604 có tổng các chữ số là: 8 + 5 + 4 + 5 + 6 + 0 + 4 = 32\n",
        "\n"
      ],
      "metadata": {
        "id": "FzhJY9X3meqT"
      }
    },
    {
      "cell_type": "code",
      "source": [
        "def sum(n):\n",
        "  count = 0\n",
        "  while n != 0:\n",
        "    digit = n % 10\n",
        "    count += digit\n",
        "    n //= 10\n",
        "  return count\n",
        "\n",
        "n = int(input(\"Nhập số nguyên bất kỳ: \"))\n",
        "print(f\"Tổng các chữ số của {n} là:\", sum(n))"
      ],
      "metadata": {
        "colab": {
          "base_uri": "https://localhost:8080/"
        },
        "id": "HgWYCPk2m7iB",
        "outputId": "b539db21-41ae-43e6-c54f-a33856645faa"
      },
      "execution_count": 27,
      "outputs": [
        {
          "output_type": "stream",
          "name": "stdout",
          "text": [
            "Nhập số nguyên bất kỳ: 8361\n",
            "Tổng các chữ số của 8361 là: 18\n"
          ]
        }
      ]
    },
    {
      "cell_type": "markdown",
      "source": [
        "## Question 2:\n",
        "\n",
        "  Viết chương trình phân tích một số nguyên thành các thừa số nguyên tố.\n",
        "\n",
        "  Ví dụ:\n",
        "\n",
        "*    Số 28 được phân tích thành 2 x 2 x 7\n"
      ],
      "metadata": {
        "id": "H4z44nl5m8aD"
      }
    },
    {
      "cell_type": "code",
      "source": [
        "def prime_factors(n):\n",
        "    factors = []\n",
        "    factor = 2\n",
        "    while factor * factor <= n:\n",
        "        if n % factor == 0:\n",
        "            factors.append(factor)\n",
        "            n //= factor\n",
        "        else:\n",
        "            factor += 1\n",
        "    # Nếu n còn lại sau khi kiểm tra các thừa số nhỏ hơn căn bậc hai của n\n",
        "    if n > 1:\n",
        "        factors.append(n)\n",
        "    return factors\n",
        "\n",
        "num = int(input(\"Nhập một số nguyên dương: \"))\n",
        "\n",
        "factors = prime_factors(num)\n",
        "if len(factors) == 1 and factors[0] == num:\n",
        "    print(f\"{num} là số nguyên tố.\")\n",
        "else:\n",
        "    print(f\"Các thừa số nguyên tố của {num} là:\", *factors)\n"
      ],
      "metadata": {
        "colab": {
          "base_uri": "https://localhost:8080/"
        },
        "id": "3L1fsLhYnKJe",
        "outputId": "adf179d8-68a7-4a5b-8619-07ef2410adec"
      },
      "execution_count": 31,
      "outputs": [
        {
          "output_type": "stream",
          "name": "stdout",
          "text": [
            "Nhập một số nguyên dương: 28\n",
            "Các thừa số nguyên tố của 28 là: 2 2 7\n"
          ]
        }
      ]
    },
    {
      "cell_type": "markdown",
      "source": [
        "## Question 3:\n",
        "\n",
        "  Viết chương trình liệt kê tất cả các số nguyên tố nhỏ hơn n cho trước."
      ],
      "metadata": {
        "id": "V_OwrOwKnKiZ"
      }
    },
    {
      "cell_type": "code",
      "source": [
        "import math\n",
        "\n",
        "def is_prime(num):\n",
        "  i = 2\n",
        "  while i <= math.sqrt(num):\n",
        "    if num % i == 0:\n",
        "      return False\n",
        "    i += 1\n",
        "  return True\n",
        "\n",
        "def list_prime(n):\n",
        "  prime = []\n",
        "  for i in range(2, n):\n",
        "    if is_prime(i):\n",
        "      prime.append(i)\n",
        "  return prime\n",
        "\n",
        "n = int(input(\"Nhập giá trị n: \"))\n",
        "print(f\"Tất cả số nguyên tố nhỏ hơn {n}:\", *(list_prime(n)))"
      ],
      "metadata": {
        "colab": {
          "base_uri": "https://localhost:8080/"
        },
        "id": "mFU92KM-nRqU",
        "outputId": "b3efbd25-26cc-4c7d-bbd6-ddd0fbc454cf"
      },
      "execution_count": 37,
      "outputs": [
        {
          "output_type": "stream",
          "name": "stdout",
          "text": [
            "Nhập giá trị n: 12\n",
            "Tất cả số nguyên tố nhỏ hơn 12: 2 3 5 7 11\n"
          ]
        }
      ]
    },
    {
      "cell_type": "markdown",
      "source": [
        "## Question 4:\n",
        "\n",
        "  Viết chương trình liệt kê n số nguyên tố đầu tiên."
      ],
      "metadata": {
        "id": "OsprAmfknR67"
      }
    },
    {
      "cell_type": "code",
      "source": [
        "import math\n",
        "\n",
        "def is_prime(num):\n",
        "  i = 2\n",
        "  while i <= math.sqrt(num):\n",
        "    if num % i == 0:\n",
        "      return False\n",
        "    i += 1\n",
        "  return True\n",
        "\n",
        "def prime_list(n):\n",
        "  prime = []\n",
        "  i = 2\n",
        "  while len(prime) < n:\n",
        "    if is_prime(i):\n",
        "      prime.append(i)\n",
        "    i += 1\n",
        "  return prime\n",
        "\n",
        "n = int(input(\"Nhập giá trị n: \"))\n",
        "print(f\"Liệt kê {n} số nguyên tố đầu tiên:\", *(prime_list(n)))"
      ],
      "metadata": {
        "colab": {
          "base_uri": "https://localhost:8080/"
        },
        "id": "SD1e4y-anZpK",
        "outputId": "920cf5ea-6f36-4fc6-9c9a-bd368d8efcd0"
      },
      "execution_count": 39,
      "outputs": [
        {
          "output_type": "stream",
          "name": "stdout",
          "text": [
            "Nhập giá trị n: 12\n",
            "Liệt kê 12 số nguyên tố đầu tiên: 2 3 5 7 11 13 17 19 23 29 31 37\n"
          ]
        }
      ]
    },
    {
      "cell_type": "markdown",
      "source": [
        "## Question 5:\n",
        "\n",
        "  Viết chương trình tìm ước số chung lớn nhất, bội số chung nhỏ nhất của hai số tự nhiên a và b."
      ],
      "metadata": {
        "id": "EXqyA8A6naCH"
      }
    },
    {
      "cell_type": "code",
      "source": [
        "def UCLN(a, b):\n",
        "  while b != 0:\n",
        "    a, b = b, a % b\n",
        "  return a\n",
        "\n",
        "def BCNN(a, b):\n",
        "  return abs(a * b) // UCLN(a, b)\n",
        "\n",
        "a, b = map(int, input(\"Nhập hai số tự nhiên: \").split())\n",
        "print(f\"Ước chung lớn nhất của {a} và {b} là:\", UCLN(a, b))\n",
        "print(f\"Bội chung nhỏ nhất của {a} và {b} là:\", BCNN(a, b))"
      ],
      "metadata": {
        "colab": {
          "base_uri": "https://localhost:8080/"
        },
        "id": "fwwM88L_njLz",
        "outputId": "7bd9c91d-4a54-425d-dab8-e113e33433f2"
      },
      "execution_count": 42,
      "outputs": [
        {
          "output_type": "stream",
          "name": "stdout",
          "text": [
            "Nhập hai số tự nhiên: 7 21\n",
            "Ước chung lớn nhất của 7 và 21 là: 7\n",
            "Bội chung nhỏ nhất của 7 và 21 là: 21\n"
          ]
        }
      ]
    },
    {
      "cell_type": "markdown",
      "source": [
        "## Question 6:\n",
        "\n",
        "  Dãy số Fibonancci được định nghĩa như sau:\n",
        "    \n",
        "*   F0 = 1, F1 = 1, ..., Fn = Fn-1 + Fn-2 với n >= 2\n",
        "\n",
        "Hãy viết chương trình tìm số Fibonacci thứ n.\n",
        "\n"
      ],
      "metadata": {
        "id": "VHnZbTX_njsz"
      }
    },
    {
      "cell_type": "code",
      "source": [
        "def Fibo(n):\n",
        "  if n == 1 or n == 2:\n",
        "    return 1\n",
        "  return Fibo(n-1) + Fibo(n-2)\n",
        "\n",
        "n = int(input(\"Nhập một số tự nhiên n: \"))\n",
        "print(f\"Số Fibo thứ {n}:\", Fibo(n))"
      ],
      "metadata": {
        "colab": {
          "base_uri": "https://localhost:8080/"
        },
        "id": "u9LHLswpn_mr",
        "outputId": "a61f3533-41a5-4c3d-8bef-4af5bc17ce3b"
      },
      "execution_count": 44,
      "outputs": [
        {
          "output_type": "stream",
          "name": "stdout",
          "text": [
            "Nhập một số tự nhiên n: 12\n",
            "Số Fibo thứ 12: 144\n"
          ]
        }
      ]
    },
    {
      "cell_type": "markdown",
      "source": [
        "## Question 7:\n",
        "\n",
        "Nhập một số tự nhiên n. Hãy liệt kê các số Fibonacci nhỏ hơn n là số nguyên tố."
      ],
      "metadata": {
        "id": "YwDczLLPoAA7"
      }
    },
    {
      "cell_type": "code",
      "source": [
        "import math\n",
        "\n",
        "def is_prime(num):\n",
        "  if num <= 1:\n",
        "    return False\n",
        "\n",
        "  i = 2\n",
        "  while i <= math.sqrt(num):\n",
        "    if num % i == 0:\n",
        "      return False\n",
        "    i += 1\n",
        "  return True\n",
        "\n",
        "def Fibo_list(n):\n",
        "  fibo_list = []\n",
        "  a, b = 1, 1\n",
        "  while a < n:\n",
        "    fibo_list.append(a)\n",
        "    a, b = b, a + b\n",
        "  return fibo_list\n",
        "\n",
        "n = int(input(\"Nhập một số tự nhiên n: \"))\n",
        "print(f\"Liệt kê các số Fibo nhỏ hơn n là số nguyên tố:\", *[num for num in Fibo_list(n) if is_prime(num)])"
      ],
      "metadata": {
        "colab": {
          "base_uri": "https://localhost:8080/"
        },
        "id": "92M0DttUoMB6",
        "outputId": "54159fd8-bdf3-49b1-f5d1-9364131f0d5f"
      },
      "execution_count": 48,
      "outputs": [
        {
          "output_type": "stream",
          "name": "stdout",
          "text": [
            "Nhập một số tự nhiên n: 21\n",
            "Liệt kê các số Fibo nhỏ hơn n là số nguyên tố: 2 3 5 13\n"
          ]
        }
      ]
    },
    {
      "cell_type": "markdown",
      "source": [
        "## Question 8:\n",
        "\n",
        "  Viết chương trình nhập một số nguyên dương n và thực hiện các chức năng sau:\n",
        "\n",
        "\n",
        "1.   Tính tổng các chữ số của n.\n",
        "2.   Phân tích n thành các thừa số nguyên tố.\n",
        "\n"
      ],
      "metadata": {
        "id": "OyGbBmHCoMkk"
      }
    },
    {
      "cell_type": "code",
      "source": [
        "def sum(n):\n",
        "  count = 0\n",
        "  while n != 0:\n",
        "    digit = n % 10\n",
        "    count += digit\n",
        "    n //= 10\n",
        "  return count\n",
        "\n",
        "def prime_factors(n):\n",
        "    factors = []\n",
        "    factor = 2\n",
        "    while factor * factor <= n:\n",
        "        if n % factor == 0:\n",
        "            factors.append(factor)\n",
        "            n //= factor\n",
        "        else:\n",
        "            factor += 1\n",
        "    # Nếu n còn lại sau khi kiểm tra các thừa số nhỏ hơn căn bậc hai của n\n",
        "    if n > 1:\n",
        "        factors.append(n)\n",
        "    return factors\n",
        "\n",
        "n = int(input(\"Nhập một số nguyên dương n: \"))\n",
        "print(f\"Tổng các chữ số của {n}:\", sum(n))\n",
        "print(f\"Phân tích {n} thành các thừa số nguyên tố:\", *prime_factors(n))"
      ],
      "metadata": {
        "colab": {
          "base_uri": "https://localhost:8080/"
        },
        "id": "TVwcKkGuocyW",
        "outputId": "ce7d5aa5-b747-4c07-aa44-beaadfc95ddc"
      },
      "execution_count": 51,
      "outputs": [
        {
          "output_type": "stream",
          "name": "stdout",
          "text": [
            "Nhập một số nguyên dương n: 125\n",
            "Tổng các chữ số của 125: 8\n",
            "Phân tích 125 thành các thừa số nguyên tố: 5 5 5\n"
          ]
        }
      ]
    },
    {
      "cell_type": "markdown",
      "source": [
        "## Question 9:\n",
        "Viết chương trình nhập một số nguyên dương n và thực hiện các chức năng sau:\n",
        "\n",
        "\n",
        "1.   Liệt kê các ước số của n. Có bao nhiêu ước số.\n",
        "2.   Liệt kê các ước số là nguyên tố của n.\n",
        "\n"
      ],
      "metadata": {
        "id": "YfuEB8fFodMZ"
      }
    },
    {
      "cell_type": "code",
      "source": [
        "def is_prime(num):\n",
        "  if num <= 1:\n",
        "    return False\n",
        "\n",
        "  i = 2\n",
        "  while i <= math.sqrt(num):\n",
        "    if num % i == 0:\n",
        "      return False\n",
        "    i += 1\n",
        "  return True\n",
        "\n",
        "def uoc_so_list(n):\n",
        "  uoc_so = []\n",
        "  for i in range(1, int(math.sqrt(n))):\n",
        "    if n % i == 0:\n",
        "      uoc_so.append(i)\n",
        "      if i != n // i:\n",
        "        uoc_so.append(n // i)\n",
        "  uoc_so.sort()\n",
        "  return uoc_so\n",
        "\n",
        "n = int(input(\"Nhập một số nguyên dương n: \"))\n",
        "print(f\"Liệt kê các ước số của {n}:\", *uoc_so_list(n))\n",
        "print(f\"Có {len(uoc_so_list(n))} ước số\")\n",
        "print(f\"Liệt kê các ước số nguyên tố của {n}:\", *[num for num in uoc_so_list(n) if is_prime(num)])"
      ],
      "metadata": {
        "colab": {
          "base_uri": "https://localhost:8080/"
        },
        "id": "f2AKZnEaovnL",
        "outputId": "1c0e7877-e300-4004-e2ac-de3788a3159b"
      },
      "execution_count": 54,
      "outputs": [
        {
          "output_type": "stream",
          "name": "stdout",
          "text": [
            "Nhập một số nguyên dương n: 28\n",
            "Liệt kê các ước số của 28: 1 2 4 7 14 28\n",
            "Có 6 ước số\n",
            "Liệt kê các ước số nguyên tố của 28: 2 7\n"
          ]
        }
      ]
    },
    {
      "cell_type": "markdown",
      "source": [
        "## Question 10:\n",
        "Viết chương trình thực hiện chuẩn hóa một xâu ký tự nhập từ bàn phím (loại bỏ các dấu cách thừa, chuyển ký tự đầu mỗi từ thành chữ hoa, các ký tự khác thành chữ thường)"
      ],
      "metadata": {
        "id": "oZfCRWhxov4Z"
      }
    },
    {
      "cell_type": "code",
      "source": [
        "def chuanhoa(s):\n",
        "    # Loại bỏ khoảng trắng thừa ở đầu và cuối xâu\n",
        "    while s and s[0] == ' ':\n",
        "        s = s[1:]\n",
        "    while s and s[-1] == ' ':\n",
        "        s = s[:-1]\n",
        "\n",
        "    # Loại bỏ các khoảng trắng thừa ở giữa xâu\n",
        "    i = 0\n",
        "    while i < len(s) - 1:\n",
        "        if s[i] == ' ' and s[i + 1] == ' ':\n",
        "            s = s[:i] + s[i + 1:]\n",
        "        else:\n",
        "            i += 1\n",
        "\n",
        "    # Chuyển ký tự đầu mỗi từ thành chữ hoa và các ký tự khác thành chữ thường\n",
        "    s = s.lower()  # Chuyển toàn bộ xâu về chữ thường\n",
        "\n",
        "    # Chuyển ký tự đầu tiên của xâu thành chữ hoa\n",
        "    if s:\n",
        "        s = s[0].upper() + s[1:]\n",
        "\n",
        "    # Duyệt qua xâu và chuyển ký tự đầu các từ thành chữ hoa\n",
        "    i = 1\n",
        "    while i < len(s):\n",
        "        if s[i - 1] == ' ' and s[i] != ' ':\n",
        "            s = s[:i] + s[i].upper() + s[i + 1:]\n",
        "        i += 1\n",
        "\n",
        "    return s\n",
        "\n",
        "# Nhập xâu ký tự từ người dùng\n",
        "input_string = input(\"Nhập xâu ký tự: \")\n",
        "\n",
        "# Gọi hàm chuanhoa để chuẩn hóa xâu và in kết quả\n",
        "result_string = chuanhoa(input_string)\n",
        "print(\"Xâu ký tự sau khi chuẩn hóa:\", result_string)\n"
      ],
      "metadata": {
        "colab": {
          "base_uri": "https://localhost:8080/"
        },
        "id": "BW3JviMbpRW7",
        "outputId": "f932c658-769a-455e-ecc9-f4212c7badfa"
      },
      "execution_count": 57,
      "outputs": [
        {
          "output_type": "stream",
          "name": "stdout",
          "text": [
            "Nhập xâu ký tự: tRUOng   MInH      chAu\n",
            "Xâu ký tự sau khi chuẩn hóa: Truong Minh Chau\n"
          ]
        }
      ]
    },
    {
      "cell_type": "markdown",
      "source": [
        "## Question 11:\n",
        "Viết chương trình thực hiện nhập một xâu ký tự:\n",
        "\n",
        "\n",
        "1.   Tìm từ dài nhất trong xâu đó.\n",
        "2.   Từ đó xuất hiện ở vị trí nào?\n",
        "\n",
        "(Chú ý: nếu có nhiều từ có độ dài giống nhau thì chọn từ đầu tiên tìm thấy)\n",
        "\n"
      ],
      "metadata": {
        "id": "9iT8EpBNo_sz"
      }
    },
    {
      "cell_type": "code",
      "source": [
        "def string(s):\n",
        "  list_word = s.split()\n",
        "  word_longest = \"\"\n",
        "  for word in list_word:\n",
        "    if len(word) > len(word_longest):\n",
        "      word_longest = word\n",
        "  pos = s.find(word_longest)\n",
        "  return word_longest, pos\n",
        "\n",
        "input_string = input(\"Nhập xâu ký tự: \")\n",
        "word, index = string(input_string)\n",
        "print(\"Từ dài nhất trong xâu là:\", word)\n",
        "print(f\"Vị trí xuất hiện của từ {word}:\", index)"
      ],
      "metadata": {
        "colab": {
          "base_uri": "https://localhost:8080/"
        },
        "id": "qHKymfY1pQ0Y",
        "outputId": "b19028d9-40ae-4e89-dd92-3d611977ecd8"
      },
      "execution_count": 59,
      "outputs": [
        {
          "output_type": "stream",
          "name": "stdout",
          "text": [
            "Nhập xâu ký tự: mmc - data science\n",
            "Từ dài nhất trong xâu là: science\n",
            "Vị trí xuất hiện của từ science: 11\n"
          ]
        }
      ]
    },
    {
      "cell_type": "markdown",
      "source": [
        "# Exercise 3:"
      ],
      "metadata": {
        "id": "SSAsDqf-pSGD"
      }
    },
    {
      "cell_type": "markdown",
      "source": [
        "## Question 1:\n",
        "Sử dụng for, while, do while để cho ra kết quả như ảnh dưới đây.\n",
        "![Screenshot 2024-04-06 112545.png](data:image/png;base64,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)"
      ],
      "metadata": {
        "id": "tvBsuilhpVaI"
      }
    },
    {
      "cell_type": "code",
      "source": [
        "def print_upper_left_square_triangle(size):\n",
        "    print(\"Upper Left Square Triangle:\")\n",
        "    for i in range(size):\n",
        "        for j in range(i + 1):\n",
        "            print(\"*\", end=\" \")\n",
        "        print()\n",
        "\n",
        "def print_upper_right_square_triangle(size):\n",
        "    print(\"Upper Right Square Triangle:\")\n",
        "    for i in range(size):\n",
        "        for j in range(size - i - 1):\n",
        "            print(\" \", end=\" \")\n",
        "        for j in range(i + 1):\n",
        "            print(\"*\", end=\" \")\n",
        "        print()\n",
        "\n",
        "def print_lower_left_square_triangle(size):\n",
        "    print(\"Lower Left Square Triangle:\")\n",
        "    for i in range(size):\n",
        "        for j in range(size - i):\n",
        "            print(\"*\", end=\" \")\n",
        "        print()\n",
        "\n",
        "def print_lower_right_square_triangle(size):\n",
        "    print(\"Lower Right Square Triangle:\")\n",
        "    for i in range(size):\n",
        "        for j in range(i):\n",
        "            print(\" \", end=\" \")\n",
        "        for j in range(size - i):\n",
        "            print(\"*\", end=\" \")\n",
        "        print()\n",
        "\n",
        "\n",
        "size = int(input(\"Nhập kích thước cho các tam giác vuông: \"))\n",
        "\n",
        "print()\n",
        "print_upper_left_square_triangle(size)\n",
        "print()\n",
        "print_upper_right_square_triangle(size)\n",
        "print()\n",
        "print_lower_left_square_triangle(size)\n",
        "print()\n",
        "print_lower_right_square_triangle(size)\n"
      ],
      "metadata": {
        "colab": {
          "base_uri": "https://localhost:8080/"
        },
        "id": "alAgpIyfqAG1",
        "outputId": "7ca880d6-8e61-45d5-a75a-809013e52bf1"
      },
      "execution_count": 64,
      "outputs": [
        {
          "output_type": "stream",
          "name": "stdout",
          "text": [
            "Nhập kích thước cho các tam giác vuông: 8\n",
            "\n",
            "Upper Left Square Triangle:\n",
            "* \n",
            "* * \n",
            "* * * \n",
            "* * * * \n",
            "* * * * * \n",
            "* * * * * * \n",
            "* * * * * * * \n",
            "* * * * * * * * \n",
            "\n",
            "Upper Right Square Triangle:\n",
            "              * \n",
            "            * * \n",
            "          * * * \n",
            "        * * * * \n",
            "      * * * * * \n",
            "    * * * * * * \n",
            "  * * * * * * * \n",
            "* * * * * * * * \n",
            "\n",
            "Lower Left Square Triangle:\n",
            "* * * * * * * * \n",
            "* * * * * * * \n",
            "* * * * * * \n",
            "* * * * * \n",
            "* * * * \n",
            "* * * \n",
            "* * \n",
            "* \n",
            "\n",
            "Lower Right Square Triangle:\n",
            "* * * * * * * * \n",
            "  * * * * * * * \n",
            "    * * * * * * \n",
            "      * * * * * \n",
            "        * * * * \n",
            "          * * * \n",
            "            * * \n",
            "              * \n"
          ]
        }
      ]
    },
    {
      "cell_type": "markdown",
      "source": [
        "## Question 2:\n",
        "Viết chương trình tính n! với n là số tự nhiên không âm nhập vào tự bàn phím. Trong đó:\n",
        "\n",
        "\n",
        "*   0! = 1\n",
        "*   n! = 1.2.3...n\n",
        "\n"
      ],
      "metadata": {
        "id": "JCvEu3bSqzVe"
      }
    },
    {
      "cell_type": "code",
      "source": [
        "def recursive(n):\n",
        "    if n == 0:\n",
        "        return 1\n",
        "    else:\n",
        "        return n * recursive(n - 1)\n",
        "\n",
        "while True:\n",
        "    try:\n",
        "        n = int(input(\"Nhập số tự nhiên n: \"))\n",
        "        if n >= 0:\n",
        "            break\n",
        "        else:\n",
        "            print(\"Vui lòng nhập số tự nhiên không âm.\")\n",
        "    except ValueError:\n",
        "        print(\"Vui lòng nhập lại một số tự nhiên.\")\n",
        "\n",
        "print(f\"{n}! = {recursive(n)}\")"
      ],
      "metadata": {
        "colab": {
          "base_uri": "https://localhost:8080/"
        },
        "id": "SBnVogJAtRgy",
        "outputId": "14bf716b-23ea-4b74-e757-5d848ae04ab7"
      },
      "execution_count": 60,
      "outputs": [
        {
          "output_type": "stream",
          "name": "stdout",
          "text": [
            "Nhập số tự nhiên n: 3\n",
            "3! = 6\n"
          ]
        }
      ]
    }
  ]
}