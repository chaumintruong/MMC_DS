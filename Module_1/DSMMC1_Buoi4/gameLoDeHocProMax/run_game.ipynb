{
  "nbformat": 4,
  "nbformat_minor": 0,
  "metadata": {
    "colab": {
      "provenance": []
    },
    "kernelspec": {
      "name": "python3",
      "display_name": "Python 3"
    },
    "language_info": {
      "name": "python"
    }
  },
  "cells": [
    {
      "cell_type": "code",
      "execution_count": null,
      "metadata": {
        "colab": {
          "base_uri": "https://localhost:8080/"
        },
        "id": "hqE84bRo-fpB",
        "outputId": "1b7936d7-d280-40b8-f015-3cbf29a10490"
      },
      "outputs": [
        {
          "output_type": "stream",
          "name": "stdout",
          "text": [
            "fatal: destination path 'MMC_DS' already exists and is not an empty directory.\n"
          ]
        }
      ],
      "source": [
        "!git clone https://github.com/chaumintruong/MMC_DS.git"
      ]
    },
    {
      "cell_type": "code",
      "source": [
        "%cd /content/MMC_DS/Module_1/DSMMC1_Buoi4/gameLoDeHocProMax"
      ],
      "metadata": {
        "colab": {
          "base_uri": "https://localhost:8080/"
        },
        "id": "P4tBgynk-8vS",
        "outputId": "a89be227-e923-4842-da07-f328c006e259"
      },
      "execution_count": null,
      "outputs": [
        {
          "output_type": "stream",
          "name": "stdout",
          "text": [
            "/content/MMC_DS/Module_1/DSMMC1_Buoi4/gameLoDeHocProMax\n"
          ]
        }
      ]
    },
    {
      "cell_type": "code",
      "source": [
        "from my_lib import *"
      ],
      "metadata": {
        "id": "6cdBFmw5AaNG"
      },
      "execution_count": null,
      "outputs": []
    },
    {
      "cell_type": "code",
      "source": [
        "from IPython.display import clear_output"
      ],
      "metadata": {
        "id": "BTzHdhpuAmQJ"
      },
      "execution_count": null,
      "outputs": []
    },
    {
      "cell_type": "code",
      "source": [
        "%run Game_Lo_De_Hoc.ipynb"
      ],
      "metadata": {
        "colab": {
          "base_uri": "https://localhost:8080/"
        },
        "id": "tYR732ArB4Bo",
        "outputId": "ba83ccc2-2d3e-4042-e472-194d833a5658"
      },
      "execution_count": 17,
      "outputs": [
        {
          "output_type": "stream",
          "name": "stdout",
          "text": [
            "GAME LÔ ĐỀ HỌC\n",
            "1. Chơi lô\n",
            "2. Đổi mật khẩu\n",
            "3. Thống kê\n",
            "4. Đăng xuất\n",
            "Bạn chọn: 4\n",
            "Chào bạn, hẹn gặp lại!\n"
          ]
        }
      ]
    }
  ]
}