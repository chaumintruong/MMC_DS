{
  "nbformat": 4,
  "nbformat_minor": 0,
  "metadata": {
    "kernelspec": {
      "display_name": "Python 3",
      "language": "python",
      "name": "python3"
    },
    "language_info": {
      "codemirror_mode": {
        "name": "ipython",
        "version": 3
      },
      "file_extension": ".py",
      "mimetype": "text/x-python",
      "name": "python",
      "nbconvert_exporter": "python",
      "pygments_lexer": "ipython3",
      "version": "3.7.6"
    },
    "colab": {
      "provenance": [],
      "collapsed_sections": [
        "ql1tttp6e7P_",
        "QREp0ieMe7QA"
      ]
    }
  },
  "cells": [
    {
      "cell_type": "markdown",
      "metadata": {
        "id": "_KhoOa8Ge7Pc"
      },
      "source": [
        "#Lab 9.1 Đọc Tệp tin Python\n",
        "\n",
        "Thời lượng ước tính: **40** phút\n",
        "\n",
        "## Mục tiêu\n",
        "\n",
        "Sau khi hoàn thành lab này, bạn sẽ có thể:\n",
        "\n",
        "-   Đọc tệp tin văn bản sử dụng thư viện Python\n"
      ]
    },
    {
      "cell_type": "markdown",
      "metadata": {
        "id": "CA6NvLZ6e7Pp"
      },
      "source": [
        "<h2>Mục lục</h2>\n",
        "<div class=\"alert alert-block alert-info\" style=\"margin-top: 20px\">\n",
        "    <ul>\n",
        "        <li><a href=\"download\">Tải dữ liệu</a></li>\n",
        "        <li><a href=\"read\">Đọc tệp tin văn bản</a></li>\n",
        "        <li><a href=\"better\">Cách tốt hơn để mở một tệp tin</a></li>\n",
        "    </ul>\n",
        "\n",
        "</div>\n",
        "\n",
        "<hr>\n"
      ]
    },
    {
      "cell_type": "markdown",
      "metadata": {
        "id": "qpUWLOIWe7Pq"
      },
      "source": [
        "<h2 id=\"download\">Tải Dữ liệu </h2>\n"
      ]
    },
    {
      "cell_type": "code",
      "metadata": {
        "id": "hSDPpQy2e7Pq",
        "outputId": "6a6e93cb-29d2-4aad-9512-0cf4b028d289",
        "colab": {
          "base_uri": "https://localhost:8080/"
        }
      },
      "source": [
        "import urllib.request\n",
        "url = 'https://cf-courses-data.s3.us.cloud-object-storage.appdomain.cloud/IBMDeveloperSkillsNetwork-PY0101EN-SkillsNetwork/labs/Module%204/data/example1.txt'\n",
        "filename = 'Example1.txt'\n",
        "urllib.request.urlretrieve(url, filename)"
      ],
      "execution_count": 1,
      "outputs": [
        {
          "output_type": "execute_result",
          "data": {
            "text/plain": [
              "('Example1.txt', <http.client.HTTPMessage at 0x7970f5918b20>)"
            ]
          },
          "metadata": {},
          "execution_count": 1
        }
      ]
    },
    {
      "cell_type": "code",
      "source": [
        "# Tạo thư mục resources/data\n",
        "!mkdir -p /content/resources/data\n",
        "\n",
        "# Di chuyển đến thư mục vừa tạo\n",
        "%cd /content/resources/data\n"
      ],
      "metadata": {
        "id": "zzLIBYoorSxP"
      },
      "execution_count": null,
      "outputs": []
    },
    {
      "cell_type": "code",
      "metadata": {
        "id": "yF9yXwAVe7Ps",
        "outputId": "f2acc0bb-942d-43c1-c3e9-6d2154fa8a5d",
        "colab": {
          "base_uri": "https://localhost:8080/"
        }
      },
      "source": [
        "# Download Example file\n",
        "\n",
        "!wget -O /content/resources/data/Example1.txt https://cf-courses-data.s3.us.cloud-object-storage.appdomain.cloud/IBMDeveloperSkillsNetwork-PY0101EN-SkillsNetwork/labs/Module%204/data/example1.txt"
      ],
      "execution_count": 8,
      "outputs": [
        {
          "output_type": "stream",
          "name": "stdout",
          "text": [
            "--2024-04-13 09:02:42--  https://cf-courses-data.s3.us.cloud-object-storage.appdomain.cloud/IBMDeveloperSkillsNetwork-PY0101EN-SkillsNetwork/labs/Module%204/data/example1.txt\n",
            "Resolving cf-courses-data.s3.us.cloud-object-storage.appdomain.cloud (cf-courses-data.s3.us.cloud-object-storage.appdomain.cloud)... 198.23.119.245\n",
            "Connecting to cf-courses-data.s3.us.cloud-object-storage.appdomain.cloud (cf-courses-data.s3.us.cloud-object-storage.appdomain.cloud)|198.23.119.245|:443... connected.\n",
            "HTTP request sent, awaiting response... 200 OK\n",
            "Length: 45 [text/plain]\n",
            "Saving to: ‘/content/resources/data/Example1.txt’\n",
            "\n",
            "/content/resources/ 100%[===================>]      45  --.-KB/s    in 0s      \n",
            "\n",
            "2024-04-13 09:02:42 (24.8 MB/s) - ‘/content/resources/data/Example1.txt’ saved [45/45]\n",
            "\n"
          ]
        }
      ]
    },
    {
      "cell_type": "markdown",
      "metadata": {
        "id": "HUi_fA96e7Ps"
      },
      "source": [
        "<hr>\n"
      ]
    },
    {
      "cell_type": "markdown",
      "metadata": {
        "id": "xEpRcExRe7Pt"
      },
      "source": [
        "<h2 id=\"read\">Đọc Tệp tin Văn bản</h2>\n"
      ]
    },
    {
      "cell_type": "markdown",
      "metadata": {
        "id": "sbhMBJ5De7Pt"
      },
      "source": [
        "Có một cách để đọc hoặc ghi tệp trong Python là sử dụng hàm <code>open</code> tích hợp sẵn. Hàm <code>open</code> cung cấp một <b>đối tượng Tệp tin</b> chứa các phương thức và thuộc tính bạn cần để đọc, lưu và thao tác tệp. Trong notebook này, chúng ta sẽ chỉ trình bày các tệp <b>.txt</b>. Tham số đầu tiên bạn cần là đường dẫn tệp và tên tệp. Ví dụ như sau:\n"
      ]
    },
    {
      "cell_type": "markdown",
      "metadata": {
        "id": "hniT-UWAe7Pu"
      },
      "source": [
        "<img src=\"https://cf-courses-data.s3.us.cloud-object-storage.appdomain.cloud/IBMDeveloperSkillsNetwork-PY0101EN-SkillsNetwork/labs/Module%204/images/ReadOpen.png\" width=\"500\" />\n"
      ]
    },
    {
      "cell_type": "markdown",
      "metadata": {
        "id": "npFiWxdde7Pu"
      },
      "source": [
        "Đối số mode là tùy chọn và giá trị mặc định là <b>r</b>. Trong notebook này, chúng ta chỉ đề cập đến hai mode:\n",
        "\n",
        "<ul>\n",
        "    <li><b>r</b> Read mode để đọc các tệp tin </li>\n",
        "    <li><b>w</b> Write mode để ghi các tệp tin </li>\n",
        "</ul>\n"
      ]
    },
    {
      "cell_type": "markdown",
      "metadata": {
        "id": "6Gxea4KFe7Pu"
      },
      "source": [
        "Đối với ví dụ tiếp theo, chúng ta sẽ sử dụng tệp văn bản <b>Example1.txt</b>. Tệp được hiển thị như sau:\n"
      ]
    },
    {
      "cell_type": "markdown",
      "metadata": {
        "id": "RKpRsvl_e7Pv"
      },
      "source": [
        "<img src=\"https://cf-courses-data.s3.us.cloud-object-storage.appdomain.cloud/IBMDeveloperSkillsNetwork-PY0101EN-SkillsNetwork/labs/Module%204/images/ReadFile.png\" width=\"100\" />\n"
      ]
    },
    {
      "cell_type": "markdown",
      "metadata": {
        "id": "HHMg7euee7Pv"
      },
      "source": [
        "Ta đọc tệp tin:\n"
      ]
    },
    {
      "cell_type": "code",
      "metadata": {
        "id": "Uzv8mjgQe7Pv"
      },
      "source": [
        "# Read the Example1.txt\n",
        "\n",
        "example1 = \"Example1.txt\"\n",
        "file1 = open(example1, \"r\")"
      ],
      "execution_count": 9,
      "outputs": []
    },
    {
      "cell_type": "markdown",
      "metadata": {
        "id": "6BNPGRUme7Pw"
      },
      "source": [
        "Ta có thể xem các thuộc tính của tệp tin:\n"
      ]
    },
    {
      "cell_type": "markdown",
      "metadata": {
        "id": "2kWmIiTYe7Pw"
      },
      "source": [
        "Tên của tệp tin:\n"
      ]
    },
    {
      "cell_type": "code",
      "metadata": {
        "id": "euuxHVKje7Pw",
        "outputId": "39561afb-b958-4611-e6e4-c650dc8b3007",
        "colab": {
          "base_uri": "https://localhost:8080/",
          "height": 35
        }
      },
      "source": [
        "# Print the path of file\n",
        "\n",
        "file1.name"
      ],
      "execution_count": 10,
      "outputs": [
        {
          "output_type": "execute_result",
          "data": {
            "text/plain": [
              "'Example1.txt'"
            ],
            "application/vnd.google.colaboratory.intrinsic+json": {
              "type": "string"
            }
          },
          "metadata": {},
          "execution_count": 10
        }
      ]
    },
    {
      "cell_type": "markdown",
      "metadata": {
        "id": "QVD0Xx8Oe7Px"
      },
      "source": [
        "Đối tượng tệp tin ở trong mode nào:\n"
      ]
    },
    {
      "cell_type": "code",
      "metadata": {
        "id": "tA64vt3je7Px",
        "outputId": "ee9d6be5-962b-4680-e90d-b74ee6914bfc",
        "colab": {
          "base_uri": "https://localhost:8080/",
          "height": 35
        }
      },
      "source": [
        "# Print the mode of file, either 'r' or 'w'\n",
        "\n",
        "file1.mode"
      ],
      "execution_count": 11,
      "outputs": [
        {
          "output_type": "execute_result",
          "data": {
            "text/plain": [
              "'r'"
            ],
            "application/vnd.google.colaboratory.intrinsic+json": {
              "type": "string"
            }
          },
          "metadata": {},
          "execution_count": 11
        }
      ]
    },
    {
      "cell_type": "markdown",
      "metadata": {
        "id": "rRx2DZdWe7Py"
      },
      "source": [
        "Ta có thể đọc một tệp tin và gán nó với một biến:\n"
      ]
    },
    {
      "cell_type": "code",
      "metadata": {
        "id": "MH8F0n28e7Py",
        "outputId": "3ebe00ac-0d66-4098-c536-b661286a8d1a",
        "colab": {
          "base_uri": "https://localhost:8080/",
          "height": 35
        }
      },
      "source": [
        "# Read the file\n",
        "\n",
        "FileContent = file1.read()\n",
        "FileContent"
      ],
      "execution_count": 12,
      "outputs": [
        {
          "output_type": "execute_result",
          "data": {
            "text/plain": [
              "'This is line 1 \\nThis is line 2\\nThis is line 3'"
            ],
            "application/vnd.google.colaboratory.intrinsic+json": {
              "type": "string"
            }
          },
          "metadata": {},
          "execution_count": 12
        }
      ]
    },
    {
      "cell_type": "markdown",
      "metadata": {
        "id": "HNEFsQnIe7Py"
      },
      "source": [
        "<b>/n</b> có nghĩa là có một dòng mới.\n"
      ]
    },
    {
      "cell_type": "markdown",
      "metadata": {
        "id": "Y6dSO_1Te7Pz"
      },
      "source": [
        "Chúng ta có thể in tệp:\n"
      ]
    },
    {
      "cell_type": "code",
      "metadata": {
        "id": "5wyrYlOie7Pz",
        "outputId": "65a133d8-4ef1-46c5-c48e-2a64b8a3c226",
        "colab": {
          "base_uri": "https://localhost:8080/"
        }
      },
      "source": [
        "# Print the file with '\\n' as a new line\n",
        "\n",
        "print(FileContent)"
      ],
      "execution_count": 13,
      "outputs": [
        {
          "output_type": "stream",
          "name": "stdout",
          "text": [
            "This is line 1 \n",
            "This is line 2\n",
            "This is line 3\n"
          ]
        }
      ]
    },
    {
      "cell_type": "markdown",
      "metadata": {
        "id": "G8F2e0WMe7Pz"
      },
      "source": [
        "Tệp thuộc type string:\n"
      ]
    },
    {
      "cell_type": "code",
      "metadata": {
        "id": "acJUjWJHe7P0",
        "outputId": "d7759235-6c23-48d4-907a-69978d6570de",
        "colab": {
          "base_uri": "https://localhost:8080/"
        }
      },
      "source": [
        "# Type of file content\n",
        "\n",
        "type(FileContent)"
      ],
      "execution_count": 14,
      "outputs": [
        {
          "output_type": "execute_result",
          "data": {
            "text/plain": [
              "str"
            ]
          },
          "metadata": {},
          "execution_count": 14
        }
      ]
    },
    {
      "cell_type": "markdown",
      "metadata": {
        "id": "1BkPTLjSe7P0"
      },
      "source": [
        "Điều rất quan trọng là tệp cần được đóng khi kết thúc. Điều này giải phóng tài nguyên và đảm bảo tính nhất quán trên các phiên bản python khác nhau."
      ]
    },
    {
      "cell_type": "code",
      "metadata": {
        "id": "pJSaOo_Me7P1"
      },
      "source": [
        "# Close file after finish\n",
        "\n",
        "file1.close()"
      ],
      "execution_count": 15,
      "outputs": []
    },
    {
      "cell_type": "markdown",
      "metadata": {
        "id": "hMRg4OQye7P1"
      },
      "source": [
        "<hr>\n"
      ]
    },
    {
      "cell_type": "markdown",
      "metadata": {
        "id": "6-lQVfZce7P1"
      },
      "source": [
        "<h2 id=\"better\">Cách tốt hơn để mở một tệp tin</h2>\n"
      ]
    },
    {
      "cell_type": "markdown",
      "metadata": {
        "id": "QiJ-iomle7P1"
      },
      "source": [
        "Cách tốt hơn là sử dụng câu lệnh <code>with</code>, nó sẽ tự động đóng tệp ngay cả khi code gặp phải một ngoại lệ. Code sẽ chạy mọi thứ trong khối thụt lề sau đó đóng đối tượng tệp.\n"
      ]
    },
    {
      "cell_type": "code",
      "metadata": {
        "id": "1UE_mnICe7P2",
        "outputId": "a2e0a681-828a-41ec-a28d-6c2c294a7e92",
        "colab": {
          "base_uri": "https://localhost:8080/"
        }
      },
      "source": [
        "# Open file using with\n",
        "\n",
        "with open(example1, \"r\") as file1:\n",
        "    FileContent = file1.read()\n",
        "    print(FileContent)"
      ],
      "execution_count": 16,
      "outputs": [
        {
          "output_type": "stream",
          "name": "stdout",
          "text": [
            "This is line 1 \n",
            "This is line 2\n",
            "This is line 3\n"
          ]
        }
      ]
    },
    {
      "cell_type": "markdown",
      "metadata": {
        "id": "gW81SjNMe7P2"
      },
      "source": [
        "Đối tượng tệp đã bị đóng, bạn có thể xác minh nó bằng cách chạy ô sau:  \n"
      ]
    },
    {
      "cell_type": "code",
      "metadata": {
        "id": "ONKSN_dde7P2",
        "outputId": "a91a6c3b-f110-415e-ffe0-a7f33ee1b025",
        "colab": {
          "base_uri": "https://localhost:8080/"
        }
      },
      "source": [
        "# Verify if the file is closed\n",
        "\n",
        "file1.closed"
      ],
      "execution_count": 17,
      "outputs": [
        {
          "output_type": "execute_result",
          "data": {
            "text/plain": [
              "True"
            ]
          },
          "metadata": {},
          "execution_count": 17
        }
      ]
    },
    {
      "cell_type": "markdown",
      "metadata": {
        "id": "tN6gJWu9e7P2"
      },
      "source": [
        "Chúng ta có thể thấy thông tin trong tệp tin:"
      ]
    },
    {
      "cell_type": "code",
      "metadata": {
        "id": "JbhCT4U8e7P3",
        "outputId": "3c232299-f124-40d1-86a8-6cda63824d62",
        "colab": {
          "base_uri": "https://localhost:8080/"
        }
      },
      "source": [
        "# See the content of file\n",
        "\n",
        "print(FileContent)"
      ],
      "execution_count": 18,
      "outputs": [
        {
          "output_type": "stream",
          "name": "stdout",
          "text": [
            "This is line 1 \n",
            "This is line 2\n",
            "This is line 3\n"
          ]
        }
      ]
    },
    {
      "cell_type": "markdown",
      "metadata": {
        "id": "t0DNhabOe7P3"
      },
      "source": [
        "Cú pháp hơi khó hiểu vì đối tượng tệp nằm sau câu lệnh <code>as</code>. Chúng ta cũng không đóng tệp một cách rõ ràng. Do đó, chúng ta tóm tắt các bước trong hình:\n"
      ]
    },
    {
      "cell_type": "markdown",
      "metadata": {
        "id": "ZhWjSI3pe7P4"
      },
      "source": [
        "<img src=\"https://cf-courses-data.s3.us.cloud-object-storage.appdomain.cloud/IBMDeveloperSkillsNetwork-PY0101EN-SkillsNetwork/labs/Module%204/images/ReadWith.png\" width=\"500\" />\n"
      ]
    },
    {
      "cell_type": "markdown",
      "metadata": {
        "id": "DweXJERxe7P5"
      },
      "source": [
        "Ví dụ: chúng ta không phải đọc toàn bộ tệp, có thể đọc 4 ký tự đầu tiên bằng cách nhập 3 ký tự làm tham số cho phương thức**.read()**:\n"
      ]
    },
    {
      "cell_type": "code",
      "metadata": {
        "id": "Zb74auWve7P5",
        "outputId": "b3568190-6c88-4d3f-ec74-0f177af61987",
        "colab": {
          "base_uri": "https://localhost:8080/"
        }
      },
      "source": [
        "# Read first four characters\n",
        "\n",
        "with open(example1, \"r\") as file1:\n",
        "    print(file1.read(4))"
      ],
      "execution_count": 19,
      "outputs": [
        {
          "output_type": "stream",
          "name": "stdout",
          "text": [
            "This\n"
          ]
        }
      ]
    },
    {
      "cell_type": "markdown",
      "metadata": {
        "id": "ARnytw4je7P6"
      },
      "source": [
        "Khi phương thức <code>.read(4)</code> được gọi, 4 ký tự đầu tiên được gọi. Nếu chúng ta gọi lại phương thức, 4 ký tự tiếp theo sẽ được gọi. Đầu ra cho ô sau sẽ minh họa quy trình cho các đầu vào khác nhau cho phương thức <code>read()</code>:"
      ]
    },
    {
      "cell_type": "code",
      "metadata": {
        "id": "XmWF31P7e7P6",
        "outputId": "f381fe8c-4022-4c57-f792-a15074e7e5d3",
        "colab": {
          "base_uri": "https://localhost:8080/"
        }
      },
      "source": [
        "# Read certain amount of characters\n",
        "\n",
        "with open(example1, \"r\") as file1:\n",
        "    print(file1.read(4))\n",
        "    print(file1.read(4))\n",
        "    print(file1.read(7))\n",
        "    print(file1.read(15))"
      ],
      "execution_count": 20,
      "outputs": [
        {
          "output_type": "stream",
          "name": "stdout",
          "text": [
            "This\n",
            " is \n",
            "line 1 \n",
            "\n",
            "This is line 2\n"
          ]
        }
      ]
    },
    {
      "cell_type": "markdown",
      "metadata": {
        "id": "_SDAYgCAe7P6"
      },
      "source": [
        "Quá trình này được minh họa trong hình bên dưới và mỗi màu đại diện cho phần của tệp được đọc sau khi phương thức <code>read()</code> được gọi:\n"
      ]
    },
    {
      "cell_type": "markdown",
      "metadata": {
        "id": "Y95SfzzDe7P7"
      },
      "source": [
        "<img src=\"https://cf-courses-data.s3.us.cloud-object-storage.appdomain.cloud/IBMDeveloperSkillsNetwork-PY0101EN-SkillsNetwork/labs/Module%204/images/read.png\" width=\"500\" />\n"
      ]
    },
    {
      "cell_type": "markdown",
      "metadata": {
        "id": "8S7L21Ske7P7"
      },
      "source": [
        "Dưới đây là một ví dụ sử dụng cùng một tệp, nhưng thay vào đó chúng ta đọc 16, 5 và 9 ký tự cùng một lúc:\n"
      ]
    },
    {
      "cell_type": "code",
      "metadata": {
        "id": "3NaPrNMNe7P7",
        "outputId": "1458a9bb-6b35-4615-e50c-9b8e39a9175e",
        "colab": {
          "base_uri": "https://localhost:8080/"
        }
      },
      "source": [
        "# Read certain amount of characters\n",
        "\n",
        "with open(example1, \"r\") as file1:\n",
        "    print(file1.read(16))\n",
        "    print(file1.read(5))\n",
        "    print(file1.read(9))"
      ],
      "execution_count": 21,
      "outputs": [
        {
          "output_type": "stream",
          "name": "stdout",
          "text": [
            "This is line 1 \n",
            "\n",
            "This \n",
            "is line 2\n"
          ]
        }
      ]
    },
    {
      "cell_type": "markdown",
      "metadata": {
        "id": "2dgeNAXpe7P7"
      },
      "source": [
        "Chúng ta cũng có thể đọc từng dòng của tệp bằng phương thức <code>readline()</code>:\n"
      ]
    },
    {
      "cell_type": "code",
      "metadata": {
        "id": "k2YaGyo-e7P8",
        "outputId": "d3e1d871-f1d8-4a40-e77e-e0a3656045c0",
        "colab": {
          "base_uri": "https://localhost:8080/"
        }
      },
      "source": [
        "# Read one line\n",
        "\n",
        "with open(example1, \"r\") as file1:\n",
        "    print(\"first line: \" + file1.readline())"
      ],
      "execution_count": 22,
      "outputs": [
        {
          "output_type": "stream",
          "name": "stdout",
          "text": [
            "first line: This is line 1 \n",
            "\n"
          ]
        }
      ]
    },
    {
      "cell_type": "markdown",
      "metadata": {
        "id": "la71fLQqe7P8"
      },
      "source": [
        "Chúng ta cũng có thể chuyển một đối số tới <code> readline()</code> để chỉ định số ký tự mà chúng ta muốn đọc. Tuy nhiên, không giống như <code> read()</code>, <code> readline()</code> chỉ có thể đọc tối đa một dòng.\n"
      ]
    },
    {
      "cell_type": "code",
      "metadata": {
        "id": "amhB23_8e7P8",
        "outputId": "6bb1d769-00f7-4d8e-c426-603161b04ca6",
        "colab": {
          "base_uri": "https://localhost:8080/"
        }
      },
      "source": [
        "with open(example1, \"r\") as file1:\n",
        "    print(file1.readline(20)) # does not read past the end of line\n",
        "    print(file1.read(20)) # Returns the next 20 chars\n"
      ],
      "execution_count": 23,
      "outputs": [
        {
          "output_type": "stream",
          "name": "stdout",
          "text": [
            "This is line 1 \n",
            "\n",
            "This is line 2\n",
            "This \n"
          ]
        }
      ]
    },
    {
      "cell_type": "markdown",
      "metadata": {
        "id": "zg8F4X8Me7P9"
      },
      "source": [
        "Chúng ta có thể sử dụng một vòng lặp để lặp lại qua từng dòng:\n"
      ]
    },
    {
      "cell_type": "code",
      "metadata": {
        "id": "uoG26jnDe7P9",
        "outputId": "d9fc9f81-3783-4710-e4ec-783b2f2cfbc9",
        "colab": {
          "base_uri": "https://localhost:8080/"
        }
      },
      "source": [
        "# Iterate through the lines\n",
        "\n",
        "with open(example1,\"r\") as file1:\n",
        "        i = 0;\n",
        "        for line in file1:\n",
        "            print(\"Iteration\", str(i), \": \", line)\n",
        "            i = i + 1"
      ],
      "execution_count": 24,
      "outputs": [
        {
          "output_type": "stream",
          "name": "stdout",
          "text": [
            "Iteration 0 :  This is line 1 \n",
            "\n",
            "Iteration 1 :  This is line 2\n",
            "\n",
            "Iteration 2 :  This is line 3\n"
          ]
        }
      ]
    },
    {
      "cell_type": "markdown",
      "metadata": {
        "id": "tyckMOc_e7P-"
      },
      "source": [
        "Chúng ta có thể sử dụng phương thức <code>readlines()</code> để lưu tệp văn bản vào danh sách:\n"
      ]
    },
    {
      "cell_type": "code",
      "metadata": {
        "id": "Nd5l_BnGe7P-"
      },
      "source": [
        "# Read all lines and save as a list\n",
        "\n",
        "with open(example1, \"r\") as file1:\n",
        "    FileasList = file1.readlines()"
      ],
      "execution_count": 25,
      "outputs": []
    },
    {
      "cell_type": "markdown",
      "metadata": {
        "id": "yx9D79UGe7P-"
      },
      "source": [
        "Mỗi phần tử của danh sách tương ứng với một dòng văn bản:\n"
      ]
    },
    {
      "cell_type": "code",
      "metadata": {
        "id": "1KcZwrcue7P-",
        "outputId": "daeb9e65-601d-4697-aca9-4c6fc0d26e6f",
        "colab": {
          "base_uri": "https://localhost:8080/",
          "height": 35
        }
      },
      "source": [
        "# Print the first line\n",
        "\n",
        "FileasList[0]"
      ],
      "execution_count": 26,
      "outputs": [
        {
          "output_type": "execute_result",
          "data": {
            "text/plain": [
              "'This is line 1 \\n'"
            ],
            "application/vnd.google.colaboratory.intrinsic+json": {
              "type": "string"
            }
          },
          "metadata": {},
          "execution_count": 26
        }
      ]
    },
    {
      "cell_type": "markdown",
      "metadata": {
        "id": "ql1tttp6e7P_"
      },
      "source": [
        "# In dòng thứ hai\n",
        "\n",
        "FileasList[1]\n"
      ]
    },
    {
      "cell_type": "code",
      "metadata": {
        "id": "Si6-UeWwe7P_",
        "outputId": "f43f4172-59fe-44f6-b65a-9e5abeb40596",
        "colab": {
          "base_uri": "https://localhost:8080/",
          "height": 35
        }
      },
      "source": [
        "# Print the third line\n",
        "\n",
        "FileasList[2]"
      ],
      "execution_count": 27,
      "outputs": [
        {
          "output_type": "execute_result",
          "data": {
            "text/plain": [
              "'This is line 3'"
            ],
            "application/vnd.google.colaboratory.intrinsic+json": {
              "type": "string"
            }
          },
          "metadata": {},
          "execution_count": 27
        }
      ]
    },
    {
      "cell_type": "markdown",
      "metadata": {
        "id": "Lf8soMEPe7QA"
      },
      "source": [
        "<hr>\n",
        "Nguồn: IBM\n",
        "<hr>"
      ]
    }
  ]
}